{
 "cells": [
  {
   "cell_type": "markdown",
   "metadata": {},
   "source": [
    "# Statistical Analysis"
   ]
  },
  {
   "cell_type": "markdown",
   "metadata": {},
   "source": [
    "Hypothesis Tests\n",
    "\n",
    "1. Chi-Square Test\n",
    "2. Yet to be determined other hypothesis test"
   ]
  },
  {
   "cell_type": "code",
   "execution_count": 27,
   "metadata": {},
   "outputs": [],
   "source": [
    "import pandas as pd\n",
    "import numpy as np\n",
    "import matplotlib.pyplot as plt\n",
    "import seaborn as sns"
   ]
  },
  {
   "cell_type": "markdown",
   "metadata": {},
   "source": [
    "# Chi-Square Test\n",
    "- **Null Hypothesis:** There is no statistically significant relationship between sex and the number of tickets issued\n",
    "- **Alternative Hypothesis:** There is a significant relationship betweeen sex and the number of tickets issued"
   ]
  },
  {
   "cell_type": "code",
   "execution_count": 3,
   "metadata": {},
   "outputs": [],
   "source": [
    "data = pd.read_csv('data/Traffic_Violations (4).csv', low_memory = False)"
   ]
  },
  {
   "cell_type": "code",
   "execution_count": 4,
   "metadata": {},
   "outputs": [
    {
     "data": {
      "text/html": [
       "<div>\n",
       "<style scoped>\n",
       "    .dataframe tbody tr th:only-of-type {\n",
       "        vertical-align: middle;\n",
       "    }\n",
       "\n",
       "    .dataframe tbody tr th {\n",
       "        vertical-align: top;\n",
       "    }\n",
       "\n",
       "    .dataframe thead th {\n",
       "        text-align: right;\n",
       "    }\n",
       "</style>\n",
       "<table border=\"1\" class=\"dataframe\">\n",
       "  <thead>\n",
       "    <tr style=\"text-align: right;\">\n",
       "      <th></th>\n",
       "      <th>SeqID</th>\n",
       "      <th>Date Of Stop</th>\n",
       "      <th>Time Of Stop</th>\n",
       "      <th>Agency</th>\n",
       "      <th>SubAgency</th>\n",
       "      <th>Description</th>\n",
       "      <th>Location</th>\n",
       "      <th>Latitude</th>\n",
       "      <th>Longitude</th>\n",
       "      <th>Accident</th>\n",
       "      <th>...</th>\n",
       "      <th>Charge</th>\n",
       "      <th>Article</th>\n",
       "      <th>Contributed To Accident</th>\n",
       "      <th>Race</th>\n",
       "      <th>Gender</th>\n",
       "      <th>Driver City</th>\n",
       "      <th>Driver State</th>\n",
       "      <th>DL State</th>\n",
       "      <th>Arrest Type</th>\n",
       "      <th>Geolocation</th>\n",
       "    </tr>\n",
       "  </thead>\n",
       "  <tbody>\n",
       "    <tr>\n",
       "      <th>0</th>\n",
       "      <td>02ccadf1-7ebd-48d8-a793-913e3198f52a</td>\n",
       "      <td>07/30/2019</td>\n",
       "      <td>22:15:00</td>\n",
       "      <td>MCP</td>\n",
       "      <td>2nd District, Bethesda</td>\n",
       "      <td>EXCEEDING THE POSTED SPEED LIMIT OF 35 MPH</td>\n",
       "      <td>RIVER RD/ROYAL DOMINION DR</td>\n",
       "      <td>38.990102</td>\n",
       "      <td>-77.151645</td>\n",
       "      <td>No</td>\n",
       "      <td>...</td>\n",
       "      <td>21-801.1</td>\n",
       "      <td>Transportation Article</td>\n",
       "      <td>False</td>\n",
       "      <td>ASIAN</td>\n",
       "      <td>F</td>\n",
       "      <td>FAIRFAX</td>\n",
       "      <td>VA</td>\n",
       "      <td>VA</td>\n",
       "      <td>Q - Marked Laser</td>\n",
       "      <td>(38.9901016666667, -77.151645)</td>\n",
       "    </tr>\n",
       "    <tr>\n",
       "      <th>1</th>\n",
       "      <td>3b060228-d664-4480-9314-6188ee8ac891</td>\n",
       "      <td>07/07/2019</td>\n",
       "      <td>22:54:00</td>\n",
       "      <td>MCP</td>\n",
       "      <td>4th District, Wheaton</td>\n",
       "      <td>FAILURE TO STOP AT STOP SIGN</td>\n",
       "      <td>ENNALLS AVE @ GEORGIA AVE</td>\n",
       "      <td>39.040360</td>\n",
       "      <td>-77.051137</td>\n",
       "      <td>No</td>\n",
       "      <td>...</td>\n",
       "      <td>21-707(a)</td>\n",
       "      <td>Transportation Article</td>\n",
       "      <td>False</td>\n",
       "      <td>HISPANIC</td>\n",
       "      <td>M</td>\n",
       "      <td>SILVER SPRING</td>\n",
       "      <td>MD</td>\n",
       "      <td>MD</td>\n",
       "      <td>A - Marked Patrol</td>\n",
       "      <td>(39.04036, -77.0511366666667)</td>\n",
       "    </tr>\n",
       "    <tr>\n",
       "      <th>2</th>\n",
       "      <td>d4dd55c0-adb0-434e-b5d9-d8346b0a4080</td>\n",
       "      <td>07/10/2019</td>\n",
       "      <td>16:00:00</td>\n",
       "      <td>MCP</td>\n",
       "      <td>1st District, Rockville</td>\n",
       "      <td>HEADLIGHT INOPERATIVE</td>\n",
       "      <td>SHADY GROVE @ TUPELO</td>\n",
       "      <td>0.000000</td>\n",
       "      <td>0.000000</td>\n",
       "      <td>No</td>\n",
       "      <td>...</td>\n",
       "      <td>11-393.9</td>\n",
       "      <td>Maryland Rules</td>\n",
       "      <td>False</td>\n",
       "      <td>HISPANIC</td>\n",
       "      <td>M</td>\n",
       "      <td>ALEXANDRIA</td>\n",
       "      <td>VA</td>\n",
       "      <td>VA</td>\n",
       "      <td>A - Marked Patrol</td>\n",
       "      <td>(0.0, 0.0)</td>\n",
       "    </tr>\n",
       "    <tr>\n",
       "      <th>3</th>\n",
       "      <td>abd509c6-edb3-4818-b90a-477cf92755e6</td>\n",
       "      <td>08/15/2019</td>\n",
       "      <td>22:42:00</td>\n",
       "      <td>MCP</td>\n",
       "      <td>2nd District, Bethesda</td>\n",
       "      <td>DRIVING VEH. W/O ADEQUATE REAR REG. PLATE ILLU...</td>\n",
       "      <td>355 AT JONES BRIDGE RD</td>\n",
       "      <td>38.997645</td>\n",
       "      <td>-77.096600</td>\n",
       "      <td>No</td>\n",
       "      <td>...</td>\n",
       "      <td>22-204(f)</td>\n",
       "      <td>Transportation Article</td>\n",
       "      <td>False</td>\n",
       "      <td>WHITE</td>\n",
       "      <td>F</td>\n",
       "      <td>POTOMAC</td>\n",
       "      <td>MD</td>\n",
       "      <td>MD</td>\n",
       "      <td>A - Marked Patrol</td>\n",
       "      <td>(38.997645, -77.0966)</td>\n",
       "    </tr>\n",
       "    <tr>\n",
       "      <th>4</th>\n",
       "      <td>021d5a2d-7989-4b52-a983-7f6e462fc123</td>\n",
       "      <td>04/15/2019</td>\n",
       "      <td>05:49:00</td>\n",
       "      <td>MCP</td>\n",
       "      <td>5th District, Germantown</td>\n",
       "      <td>DRIVER CHANGING LANES WHEN UNSAFE</td>\n",
       "      <td>GERMANTOWN AT SHAKESPEARE RD</td>\n",
       "      <td>0.000000</td>\n",
       "      <td>0.000000</td>\n",
       "      <td>No</td>\n",
       "      <td>...</td>\n",
       "      <td>21-309(b)</td>\n",
       "      <td>Transportation Article</td>\n",
       "      <td>False</td>\n",
       "      <td>BLACK</td>\n",
       "      <td>F</td>\n",
       "      <td>MONTGOMERY VILLAGE</td>\n",
       "      <td>MD</td>\n",
       "      <td>MD</td>\n",
       "      <td>A - Marked Patrol</td>\n",
       "      <td>(0.0, 0.0)</td>\n",
       "    </tr>\n",
       "  </tbody>\n",
       "</table>\n",
       "<p>5 rows × 43 columns</p>\n",
       "</div>"
      ],
      "text/plain": [
       "                                  SeqID Date Of Stop Time Of Stop Agency  \\\n",
       "0  02ccadf1-7ebd-48d8-a793-913e3198f52a   07/30/2019     22:15:00    MCP   \n",
       "1  3b060228-d664-4480-9314-6188ee8ac891   07/07/2019     22:54:00    MCP   \n",
       "2  d4dd55c0-adb0-434e-b5d9-d8346b0a4080   07/10/2019     16:00:00    MCP   \n",
       "3  abd509c6-edb3-4818-b90a-477cf92755e6   08/15/2019     22:42:00    MCP   \n",
       "4  021d5a2d-7989-4b52-a983-7f6e462fc123   04/15/2019     05:49:00    MCP   \n",
       "\n",
       "                  SubAgency  \\\n",
       "0    2nd District, Bethesda   \n",
       "1     4th District, Wheaton   \n",
       "2   1st District, Rockville   \n",
       "3    2nd District, Bethesda   \n",
       "4  5th District, Germantown   \n",
       "\n",
       "                                         Description  \\\n",
       "0         EXCEEDING THE POSTED SPEED LIMIT OF 35 MPH   \n",
       "1                       FAILURE TO STOP AT STOP SIGN   \n",
       "2                              HEADLIGHT INOPERATIVE   \n",
       "3  DRIVING VEH. W/O ADEQUATE REAR REG. PLATE ILLU...   \n",
       "4                  DRIVER CHANGING LANES WHEN UNSAFE   \n",
       "\n",
       "                       Location   Latitude  Longitude Accident  ...  \\\n",
       "0    RIVER RD/ROYAL DOMINION DR  38.990102 -77.151645       No  ...   \n",
       "1     ENNALLS AVE @ GEORGIA AVE  39.040360 -77.051137       No  ...   \n",
       "2          SHADY GROVE @ TUPELO   0.000000   0.000000       No  ...   \n",
       "3        355 AT JONES BRIDGE RD  38.997645 -77.096600       No  ...   \n",
       "4  GERMANTOWN AT SHAKESPEARE RD   0.000000   0.000000       No  ...   \n",
       "\n",
       "      Charge                 Article Contributed To Accident      Race Gender  \\\n",
       "0   21-801.1  Transportation Article                   False     ASIAN      F   \n",
       "1  21-707(a)  Transportation Article                   False  HISPANIC      M   \n",
       "2   11-393.9          Maryland Rules                   False  HISPANIC      M   \n",
       "3  22-204(f)  Transportation Article                   False     WHITE      F   \n",
       "4  21-309(b)  Transportation Article                   False     BLACK      F   \n",
       "\n",
       "          Driver City Driver State DL State        Arrest Type  \\\n",
       "0             FAIRFAX           VA       VA   Q - Marked Laser   \n",
       "1       SILVER SPRING           MD       MD  A - Marked Patrol   \n",
       "2          ALEXANDRIA           VA       VA  A - Marked Patrol   \n",
       "3             POTOMAC           MD       MD  A - Marked Patrol   \n",
       "4  MONTGOMERY VILLAGE           MD       MD  A - Marked Patrol   \n",
       "\n",
       "                      Geolocation  \n",
       "0  (38.9901016666667, -77.151645)  \n",
       "1   (39.04036, -77.0511366666667)  \n",
       "2                      (0.0, 0.0)  \n",
       "3           (38.997645, -77.0966)  \n",
       "4                      (0.0, 0.0)  \n",
       "\n",
       "[5 rows x 43 columns]"
      ]
     },
     "execution_count": 4,
     "metadata": {},
     "output_type": "execute_result"
    }
   ],
   "source": [
    "data.head()"
   ]
  },
  {
   "cell_type": "code",
   "execution_count": 55,
   "metadata": {},
   "outputs": [
    {
     "data": {
      "text/plain": [
       "M    1081580\n",
       "F     531186\n",
       "U       2174\n",
       "Name: Gender, dtype: int64"
      ]
     },
     "execution_count": 55,
     "metadata": {},
     "output_type": "execute_result"
    }
   ],
   "source": [
    "data.Gender.value_counts()"
   ]
  },
  {
   "cell_type": "code",
   "execution_count": 56,
   "metadata": {},
   "outputs": [],
   "source": [
    "data = data[data.Gender != 'U']"
   ]
  },
  {
   "cell_type": "code",
   "execution_count": 57,
   "metadata": {},
   "outputs": [
    {
     "data": {
      "text/plain": [
       "M    1081580\n",
       "F     531186\n",
       "Name: Gender, dtype: int64"
      ]
     },
     "execution_count": 57,
     "metadata": {},
     "output_type": "execute_result"
    }
   ],
   "source": [
    "data.Gender.value_counts()"
   ]
  },
  {
   "cell_type": "code",
   "execution_count": 58,
   "metadata": {},
   "outputs": [
    {
     "data": {
      "text/plain": [
       "Gender  Race           \n",
       "F       WHITE              212465\n",
       "        BLACK              172393\n",
       "        HISPANIC            80046\n",
       "        ASIAN               36562\n",
       "        OTHER               28684\n",
       "        NATIVE AMERICAN      1036\n",
       "M       WHITE              356819\n",
       "        BLACK              339753\n",
       "        HISPANIC           266071\n",
       "        OTHER               59017\n",
       "        ASIAN               57714\n",
       "        NATIVE AMERICAN      2206\n",
       "Name: Race, dtype: int64"
      ]
     },
     "execution_count": 58,
     "metadata": {},
     "output_type": "execute_result"
    }
   ],
   "source": [
    "# groupby Gender and then get Race\n",
    "# We will construct a contigency table out of this\n",
    "data.groupby('Gender').Race.value_counts()"
   ]
  },
  {
   "cell_type": "code",
   "execution_count": 59,
   "metadata": {},
   "outputs": [],
   "source": [
    "contingency_table = pd.crosstab(data['Gender'], \n",
    "                              data['Race'], \n",
    "                              margins = True\n",
    "                              )"
   ]
  },
  {
   "cell_type": "code",
   "execution_count": 61,
   "metadata": {},
   "outputs": [
    {
     "data": {
      "text/html": [
       "<div>\n",
       "<style scoped>\n",
       "    .dataframe tbody tr th:only-of-type {\n",
       "        vertical-align: middle;\n",
       "    }\n",
       "\n",
       "    .dataframe tbody tr th {\n",
       "        vertical-align: top;\n",
       "    }\n",
       "\n",
       "    .dataframe thead th {\n",
       "        text-align: right;\n",
       "    }\n",
       "</style>\n",
       "<table border=\"1\" class=\"dataframe\">\n",
       "  <thead>\n",
       "    <tr style=\"text-align: right;\">\n",
       "      <th>Race</th>\n",
       "      <th>ASIAN</th>\n",
       "      <th>BLACK</th>\n",
       "      <th>HISPANIC</th>\n",
       "      <th>NATIVE AMERICAN</th>\n",
       "      <th>OTHER</th>\n",
       "      <th>WHITE</th>\n",
       "      <th>All</th>\n",
       "    </tr>\n",
       "    <tr>\n",
       "      <th>Gender</th>\n",
       "      <th></th>\n",
       "      <th></th>\n",
       "      <th></th>\n",
       "      <th></th>\n",
       "      <th></th>\n",
       "      <th></th>\n",
       "      <th></th>\n",
       "    </tr>\n",
       "  </thead>\n",
       "  <tbody>\n",
       "    <tr>\n",
       "      <th>F</th>\n",
       "      <td>36562</td>\n",
       "      <td>172393</td>\n",
       "      <td>80046</td>\n",
       "      <td>1036</td>\n",
       "      <td>28684</td>\n",
       "      <td>212465</td>\n",
       "      <td>531186</td>\n",
       "    </tr>\n",
       "    <tr>\n",
       "      <th>M</th>\n",
       "      <td>57714</td>\n",
       "      <td>339753</td>\n",
       "      <td>266071</td>\n",
       "      <td>2206</td>\n",
       "      <td>59017</td>\n",
       "      <td>356819</td>\n",
       "      <td>1081580</td>\n",
       "    </tr>\n",
       "    <tr>\n",
       "      <th>All</th>\n",
       "      <td>94276</td>\n",
       "      <td>512146</td>\n",
       "      <td>346117</td>\n",
       "      <td>3242</td>\n",
       "      <td>87701</td>\n",
       "      <td>569284</td>\n",
       "      <td>1612766</td>\n",
       "    </tr>\n",
       "  </tbody>\n",
       "</table>\n",
       "</div>"
      ],
      "text/plain": [
       "Race    ASIAN   BLACK  HISPANIC  NATIVE AMERICAN  OTHER   WHITE      All\n",
       "Gender                                                                  \n",
       "F       36562  172393     80046             1036  28684  212465   531186\n",
       "M       57714  339753    266071             2206  59017  356819  1081580\n",
       "All     94276  512146    346117             3242  87701  569284  1612766"
      ]
     },
     "execution_count": 61,
     "metadata": {},
     "output_type": "execute_result"
    }
   ],
   "source": [
    "contingency_table"
   ]
  },
  {
   "cell_type": "markdown",
   "metadata": {},
   "source": [
    "### Visuializing Contigency Table with Stacked Bar Chart"
   ]
  },
  {
   "cell_type": "code",
   "execution_count": 62,
   "metadata": {},
   "outputs": [
    {
     "data": {
      "image/png": "[encoded data removed]",
      "text/plain": [
       "<Figure size 720x360 with 1 Axes>"
      ]
     },
     "metadata": {},
     "output_type": "display_data"
    }
   ],
   "source": [
    "#Assigns the frequency values\n",
    "malecount = contingency_table.iloc[0][0:6].values\n",
    "femalecount = contingency_table.iloc[1][0:6].values\n",
    "\n",
    "#Plots the bar chart\n",
    "fig = plt.figure(figsize=(10, 5))\n",
    "sns.set(font_scale=1.8)\n",
    "categories = [\"Asian\",\"Black\",\"Hispanic\",\"NA\",\"Other\", \"White\"]\n",
    "p1 = plt.bar(categories, malecount, 0.55, color='#d62728')\n",
    "p2 = plt.bar(categories, femalecount, 0.55, bottom=malecount)\n",
    "plt.legend((p2[0], p1[0]), ('Male', 'Female'))\n",
    "plt.xlabel('')\n",
    "plt.ylabel('Count')\n",
    "plt.show()"
   ]
  },
  {
   "cell_type": "markdown",
   "metadata": {},
   "source": [
    "**The chart above visuializes our data.  If there was truly no relationship between Gender, Race, and the amount of traffic ciations, then the data would show an even ratio split between 'Male' and 'Female' for each category.**"
   ]
  },
  {
   "cell_type": "code",
   "execution_count": 63,
   "metadata": {},
   "outputs": [
    {
     "data": {
      "text/plain": [
       "array([ 36562, 172393,  80046,   1036,  28684, 212465,  57714, 339753,\n",
       "       266071,   2206,  59017, 356819], dtype=int64)"
      ]
     },
     "execution_count": 63,
     "metadata": {},
     "output_type": "execute_result"
    }
   ],
   "source": [
    "f_obs = np.append(contingency_table.iloc[0][0:6].values, contingency_table.iloc[1][0:6].values)\n",
    "f_obs"
   ]
  },
  {
   "cell_type": "code",
   "execution_count": 64,
   "metadata": {},
   "outputs": [
    {
     "data": {
      "text/plain": [
       "array([ 531186, 1081580], dtype=int64)"
      ]
     },
     "execution_count": 64,
     "metadata": {},
     "output_type": "execute_result"
    }
   ],
   "source": [
    "row_sums = contingency_table.iloc[0:2,6].values\n",
    "row_sums\n"
   ]
  },
  {
   "cell_type": "code",
   "execution_count": 65,
   "metadata": {},
   "outputs": [
    {
     "data": {
      "text/plain": [
       "array([ 94276, 512146, 346117,   3242,  87701, 569284], dtype=int64)"
      ]
     },
     "execution_count": 65,
     "metadata": {},
     "output_type": "execute_result"
    }
   ],
   "source": [
    "col_sums = contingency_table.iloc[2,0:6].values\n",
    "col_sums"
   ]
  },
  {
   "cell_type": "code",
   "execution_count": 66,
   "metadata": {},
   "outputs": [
    {
     "data": {
      "text/plain": [
       "[31051.058452373127,\n",
       " 168682.11827134254,\n",
       " 113998.25192371367,\n",
       " 1067.7959555198956,\n",
       " 28885.49447719012,\n",
       " 187501.28091986067,\n",
       " 63224.94154762687,\n",
       " 343463.88172865746,\n",
       " 232118.74807628634,\n",
       " 2174.2040444801046,\n",
       " 58815.50552280988,\n",
       " 381782.71908013936]"
      ]
     },
     "execution_count": 66,
     "metadata": {},
     "output_type": "execute_result"
    }
   ],
   "source": [
    "total = contingency_table.loc['All', 'All']\n",
    "\n",
    "f_expected = []\n",
    "for j in range(2):\n",
    "    for i in col_sums:\n",
    "        f_expected.append(i*row_sums[j]/total)\n",
    "f_expected"
   ]
  },
  {
   "cell_type": "code",
   "execution_count": 67,
   "metadata": {},
   "outputs": [
    {
     "name": "stdout",
     "output_type": "stream",
     "text": [
      "Chi-squared Statistic: 21617.90298907573\n"
     ]
    }
   ],
   "source": [
    "chi_squared_statistic = ((f_obs - f_expected)**2/f_expected).sum()\n",
    "print('Chi-squared Statistic: {}'.format(chi_squared_statistic))"
   ]
  },
  {
   "cell_type": "code",
   "execution_count": 68,
   "metadata": {},
   "outputs": [
    {
     "name": "stdout",
     "output_type": "stream",
     "text": [
      "Degrees of Freedom: 5\n"
     ]
    }
   ],
   "source": [
    "dof = (len(row_sums)-1)*(len(col_sums)-1)\n",
    "print(\"Degrees of Freedom: {}\".format(dof))"
   ]
  },
  {
   "cell_type": "code",
   "execution_count": 69,
   "metadata": {},
   "outputs": [
    {
     "data": {
      "text/plain": [
       "array([[ 36562, 172393,  80046,   1036,  28684, 212465],\n",
       "       [ 57714, 339753, 266071,   2206,  59017, 356819]], dtype=int64)"
      ]
     },
     "execution_count": 69,
     "metadata": {},
     "output_type": "execute_result"
    }
   ],
   "source": [
    "f_obs = np.array([contingency_table.iloc[0][0:6].values,\n",
    "                  contingency_table.iloc[1][0:6].values])\n",
    "f_obs"
   ]
  },
  {
   "cell_type": "code",
   "execution_count": 70,
   "metadata": {},
   "outputs": [
    {
     "data": {
      "text/plain": [
       "(21617.90298907573, 0.0, 5)"
      ]
     },
     "execution_count": 70,
     "metadata": {},
     "output_type": "execute_result"
    }
   ],
   "source": [
    "from scipy import stats\n",
    "stats.chi2_contingency(f_obs)[0:3]"
   ]
  },
  {
   "cell_type": "code",
   "execution_count": null,
   "metadata": {},
   "outputs": [],
   "source": []
  }
 ],
 "metadata": {
  "kernelspec": {
   "display_name": "Python 3",
   "language": "python",
   "name": "python3"
  },
  "language_info": {
   "codemirror_mode": {
    "name": "ipython",
    "version": 3
   },
   "file_extension": ".py",
   "mimetype": "text/x-python",
   "name": "python",
   "nbconvert_exporter": "python",
   "pygments_lexer": "ipython3",
   "version": "3.7.3"
  }
 },
 "nbformat": 4,
 "nbformat_minor": 4
}
