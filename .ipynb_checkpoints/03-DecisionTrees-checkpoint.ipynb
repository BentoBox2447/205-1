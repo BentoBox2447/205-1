{
 "cells": [
  {
   "cell_type": "markdown",
   "metadata": {},
   "source": [
    "# Predicting if a Crash wll be fatal or not"
   ]
  },
  {
   "cell_type": "markdown",
   "metadata": {},
   "source": [
    "Here we will be predicting if a crash will be fatal or not\n",
    "\n",
    "Steps: \n",
    "1. Create 2 new dfs \n",
    "    - df with only fatal crashes\n",
    "    - data frame that samples all non fatal crashes from original df\n",
    "2. Concat both dfs\n",
    "3. New columns with 0 (non-fatal crash) or 1 (fatal crash)\n",
    "4. Clean up data and make dummy variables for each crash\n",
    "5. Try ML "
   ]
  },
  {
   "cell_type": "markdown",
   "metadata": {},
   "source": [
    "Columns to use for ML\n",
    "### Columns to use for ML\n",
    "- 'Road Grade', \n",
    "- 'Collision Type', \n",
    "- 'Weather', \n",
    "- 'Surface Condition', \n",
    "- 'Driver Substance Abuse', \n",
    "- 'Road Condition', \n",
    "- 'Fixed Objec Struck', \n",
    "- 'Junction', \n",
    "- 'Intersection Type', \n",
    "- 'Road Alignment', \n",
    "- 'Road Division',\n",
    "- 'Traffic Control',\n",
    "- 'Number of Lanes'"
   ]
  },
  {
   "cell_type": "markdown",
   "metadata": {},
   "source": [
    "### Columns to delete\n",
    "- 'Report Number', \n",
    "- 'Local Case Number', \n",
    "- 'Agency Name', \n",
    "- 'Mile Point', \n",
    "- 'Mile Point Direction', \n",
    "- 'Lane Direction', \n",
    "- 'Direction', \n",
    "- 'Distance', \n",
    "- 'Distance Unit', \n",
    "- 'Road Name', \n",
    "- 'Off-Road Description', \n",
    "- 'First Harmful Event', \n",
    "- 'Latitude', \n",
    "- 'Longitude', \n",
    "- 'Location', "
   ]
  },
  {
   "cell_type": "code",
   "execution_count": 70,
   "metadata": {},
   "outputs": [],
   "source": [
    "# import libraries \n",
    "\n",
    "import pandas as pd\n",
    "import numpy as np\n",
    "from sklearn import preprocessing\n",
    "import matplotlib.pyplot as plt \n",
    "plt.rc(\"font\", size=14)\n",
    "from sklearn.linear_model import LogisticRegression\n",
    "from sklearn.model_selection import train_test_split\n",
    "import seaborn as sns\n",
    "sns.set(style=\"white\")\n",
    "sns.set(style=\"whitegrid\", color_codes=True)"
   ]
  },
  {
   "cell_type": "code",
   "execution_count": 71,
   "metadata": {},
   "outputs": [
    {
     "data": {
      "text/plain": [
       "(47592, 44)"
      ]
     },
     "execution_count": 71,
     "metadata": {},
     "output_type": "execute_result"
    }
   ],
   "source": [
    "# reading in data \n",
    "data = pd.read_csv('data/00-crash_reporting_incidents.csv', low_memory = False)\n",
    "data.shape"
   ]
  },
  {
   "cell_type": "code",
   "execution_count": 72,
   "metadata": {},
   "outputs": [],
   "source": [
    "# create new y column 'Fatal' \n",
    "data['Fatal'] = \"\"\n",
    "\n",
    "# fill new column using factorize method, to turning category into int\n",
    "data['Fatal'] = data['ACRS Report Type'].factorize()[0]"
   ]
  },
  {
   "cell_type": "code",
   "execution_count": 73,
   "metadata": {},
   "outputs": [
    {
     "name": "stdout",
     "output_type": "stream",
     "text": [
      "0    30442\n",
      "1    17031\n",
      "2      119\n",
      "Name: Fatal, dtype: int64\n",
      "Property Damage Crash    30442\n",
      "Injury Crash             17031\n",
      "Fatal Crash                119\n",
      "Name: ACRS Report Type, dtype: int64\n"
     ]
    }
   ],
   "source": [
    "print(data['Fatal'].value_counts())\n",
    "print(data['ACRS Report Type'].value_counts())"
   ]
  },
  {
   "cell_type": "code",
   "execution_count": 74,
   "metadata": {},
   "outputs": [],
   "source": [
    "data['Road Condition'] = data['Road Condition'].factorize()[0]\n",
    "data['Road Alignment'] = data['Road Alignment'].factorize()[0]"
   ]
  },
  {
   "cell_type": "markdown",
   "metadata": {},
   "source": [
    "# Decision Tree Classifier Using 2 Features"
   ]
  },
  {
   "cell_type": "code",
   "execution_count": 75,
   "metadata": {},
   "outputs": [],
   "source": [
    "from sklearn.tree import DecisionTreeClassifier\n",
    "from sklearn.model_selection import train_test_split\n",
    "from sklearn.metrics import accuracy_score"
   ]
  },
  {
   "cell_type": "code",
   "execution_count": 76,
   "metadata": {},
   "outputs": [],
   "source": [
    "feature_cols = ['Road Condition', 'Road Alignment']\n",
    "\n",
    "X = data[feature_cols]\n",
    "y = data.Fatal"
   ]
  },
  {
   "cell_type": "code",
   "execution_count": 77,
   "metadata": {},
   "outputs": [],
   "source": [
    "X_train, X_test, y_train, y_test = train_test_split(X, y, \n",
    "                                                   test_size = 0.2,\n",
    "                                                    stratify = y, \n",
    "                                                   random_state = 3)"
   ]
  },
  {
   "cell_type": "code",
   "execution_count": 78,
   "metadata": {},
   "outputs": [],
   "source": [
    "dt = DecisionTreeClassifier(criterion = 'gini', random_state = 1)"
   ]
  },
  {
   "cell_type": "code",
   "execution_count": 79,
   "metadata": {},
   "outputs": [
    {
     "data": {
      "text/plain": [
       "DecisionTreeClassifier(class_weight=None, criterion='gini', max_depth=None,\n",
       "                       max_features=None, max_leaf_nodes=None,\n",
       "                       min_impurity_decrease=0.0, min_impurity_split=None,\n",
       "                       min_samples_leaf=1, min_samples_split=2,\n",
       "                       min_weight_fraction_leaf=0.0, presort=False,\n",
       "                       random_state=1, splitter='best')"
      ]
     },
     "execution_count": 79,
     "metadata": {},
     "output_type": "execute_result"
    }
   ],
   "source": [
    "dt.fit(X_train, y_train)"
   ]
  },
  {
   "cell_type": "code",
   "execution_count": 80,
   "metadata": {},
   "outputs": [],
   "source": [
    "y_pred = dt.predict(X_test)"
   ]
  },
  {
   "cell_type": "code",
   "execution_count": 81,
   "metadata": {},
   "outputs": [
    {
     "data": {
      "text/plain": [
       "0.6400882445635045"
      ]
     },
     "execution_count": 81,
     "metadata": {},
     "output_type": "execute_result"
    }
   ],
   "source": [
    "accuracy_score(y_test, y_pred)"
   ]
  },
  {
   "cell_type": "code",
   "execution_count": 82,
   "metadata": {},
   "outputs": [
    {
     "data": {
      "text/plain": [
       "array([0.05353844, 0.94646156])"
      ]
     },
     "execution_count": 82,
     "metadata": {},
     "output_type": "execute_result"
    }
   ],
   "source": [
    "# gives us the importance of each feature\n",
    "ft_importance"
   ]
  },
  {
   "cell_type": "code",
   "execution_count": 83,
   "metadata": {},
   "outputs": [
    {
     "data": {
      "text/plain": [
       "[('Road Condition', 0.05353843927955279),\n",
       " ('Road Alignment', 0.9464615607204472)]"
      ]
     },
     "execution_count": 83,
     "metadata": {},
     "output_type": "execute_result"
    }
   ],
   "source": [
    "# zips the feature importance to the feature cols\n",
    "list(zip(feature_cols, dt.feature_importances_))"
   ]
  }
 ],
 "metadata": {
  "kernelspec": {
   "display_name": "Python 3",
   "language": "python",
   "name": "python3"
  },
  "language_info": {
   "codemirror_mode": {
    "name": "ipython",
    "version": 3
   },
   "file_extension": ".py",
   "mimetype": "text/x-python",
   "name": "python",
   "nbconvert_exporter": "python",
   "pygments_lexer": "ipython3",
   "version": "3.7.3"
  }
 },
 "nbformat": 4,
 "nbformat_minor": 4
}
