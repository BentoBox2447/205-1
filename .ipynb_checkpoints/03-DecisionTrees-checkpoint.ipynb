{
 "cells": [
  {
   "cell_type": "markdown",
   "metadata": {},
   "source": [
    "# Predicting if a Crash wll be fatal or not"
   ]
  },
  {
   "cell_type": "markdown",
   "metadata": {},
   "source": [
    "Here we will be predicting if a crash will be fatal or not\n",
    "\n",
    "Steps: \n",
    "1. Create 2 new dfs \n",
    "    - df with only fatal crashes\n",
    "    - data frame that samples all non fatal crashes from original df\n",
    "2. Concat both dfs\n",
    "3. New columns with 0 (non-fatal crash) or 1 (fatal crash)\n",
    "4. Clean up data and make dummy variables for each crash\n",
    "5. Try ML "
   ]
  },
  {
   "cell_type": "markdown",
   "metadata": {},
   "source": [
    "Columns to use for ML\n",
    "### Columns to use for ML\n",
    "- 'Road Grade', \n",
    "- 'Collision Type', \n",
    "- 'Weather', \n",
    "- 'Surface Condition', \n",
    "- 'Driver Substance Abuse', \n",
    "- 'Road Condition', \n",
    "- 'Fixed Objec Struck', \n",
    "- 'Junction', \n",
    "- 'Intersection Type', \n",
    "- 'Road Alignment', \n",
    "- 'Road Division',\n",
    "- 'Traffic Control',\n",
    "- 'Number of Lanes'"
   ]
  },
  {
   "cell_type": "markdown",
   "metadata": {},
   "source": [
    "### Columns to delete\n",
    "- 'Report Number', \n",
    "- 'Local Case Number', \n",
    "- 'Agency Name', \n",
    "- 'Mile Point', \n",
    "- 'Mile Point Direction', \n",
    "- 'Lane Direction', \n",
    "- 'Direction', \n",
    "- 'Distance', \n",
    "- 'Distance Unit', \n",
    "- 'Road Name', \n",
    "- 'Off-Road Description', \n",
    "- 'First Harmful Event', \n",
    "- 'Latitude', \n",
    "- 'Longitude', \n",
    "- 'Location', "
   ]
  },
  {
   "cell_type": "code",
   "execution_count": 252,
   "metadata": {},
   "outputs": [],
   "source": [
    "# import libraries \n",
    "\n",
    "import pandas as pd\n",
    "import numpy as np\n",
    "from sklearn import preprocessing\n",
    "import matplotlib.pyplot as plt \n",
    "plt.rc(\"font\", size=14)\n",
    "from sklearn.linear_model import LogisticRegression\n",
    "from sklearn.model_selection import train_test_split\n",
    "import seaborn as sns\n",
    "sns.set(style=\"white\")\n",
    "sns.set(style=\"whitegrid\", color_codes=True)"
   ]
  },
  {
   "cell_type": "code",
   "execution_count": null,
   "metadata": {},
   "outputs": [],
   "source": []
  },
  {
   "cell_type": "code",
   "execution_count": 253,
   "metadata": {},
   "outputs": [
    {
     "data": {
      "text/plain": [
       "(47592, 44)"
      ]
     },
     "execution_count": 253,
     "metadata": {},
     "output_type": "execute_result"
    }
   ],
   "source": [
    "# reading in data \n",
    "data = pd.read_csv('data/00-crash_reporting_incidents.csv', low_memory = False)\n",
    "data.shape"
   ]
  },
  {
   "cell_type": "code",
   "execution_count": 254,
   "metadata": {},
   "outputs": [
    {
     "data": {
      "text/plain": [
       "['SAME DIRECTION SIDESWIPE',\n",
       " 'OPPOSITE DIRECTION SIDESWIPE',\n",
       " 'SAME DIRECTION LEFT TURN',\n",
       " 'OTHER',\n",
       " 'SAME DIR REAR END',\n",
       " 'SINGLE VEHICLE',\n",
       " 'UNKNOWN',\n",
       " 'HEAD ON LEFT TURN',\n",
       " 'STRAIGHT MOVEMENT ANGLE',\n",
       " 'SAME DIRECTION RIGHT TURN',\n",
       " 'ANGLE MEETS LEFT TURN',\n",
       " 'HEAD ON',\n",
       " nan,\n",
       " 'SAME DIR REND LEFT TURN',\n",
       " 'ANGLE MEETS RIGHT TURN',\n",
       " 'ANGLE MEETS LEFT HEAD ON',\n",
       " 'SAME DIR REND RIGHT TURN',\n",
       " 'OPPOSITE DIR BOTH LEFT TURN',\n",
       " 'SAME DIR BOTH LEFT TURN']"
      ]
     },
     "execution_count": 254,
     "metadata": {},
     "output_type": "execute_result"
    }
   ],
   "source": [
    "data['Collision Type'].unique().tolist()"
   ]
  },
  {
   "cell_type": "code",
   "execution_count": 255,
   "metadata": {},
   "outputs": [
    {
     "data": {
      "text/plain": [
       "Property Damage Crash    30442\n",
       "Injury Crash             17031\n",
       "Fatal Crash                119\n",
       "Name: ACRS Report Type, dtype: int64"
      ]
     },
     "execution_count": 255,
     "metadata": {},
     "output_type": "execute_result"
    }
   ],
   "source": [
    "data['ACRS Report Type'].value_counts()"
   ]
  },
  {
   "cell_type": "code",
   "execution_count": 256,
   "metadata": {},
   "outputs": [],
   "source": [
    "# create new y column 'Fatal' \n",
    "data['Fatal'] = \"\"\n",
    "\n",
    "# fill new column using factorize method, to turning category into int\n",
    "data['Fatal'] = data['ACRS Report Type'].factorize()[0]"
   ]
  },
  {
   "cell_type": "code",
   "execution_count": 257,
   "metadata": {},
   "outputs": [
    {
     "data": {
      "text/plain": [
       "0    30442\n",
       "1    17031\n",
       "2      119\n",
       "Name: Fatal, dtype: int64"
      ]
     },
     "execution_count": 257,
     "metadata": {},
     "output_type": "execute_result"
    }
   ],
   "source": [
    "data['Fatal'].value_counts()"
   ]
  },
  {
   "cell_type": "code",
   "execution_count": null,
   "metadata": {},
   "outputs": [],
   "source": [
    "fatal = data.loc[data['Fatal'] == 2]\n",
    "non_fatal = data.loc[data['Fatal'] == 0]"
   ]
  },
  {
   "cell_type": "code",
   "execution_count": null,
   "metadata": {},
   "outputs": [],
   "source": [
    "non_fatal = data.loc[data['Fatal'][0:119]]"
   ]
  },
  {
   "cell_type": "code",
   "execution_count": null,
   "metadata": {},
   "outputs": [],
   "source": [
    "fatal.shape"
   ]
  },
  {
   "cell_type": "code",
   "execution_count": null,
   "metadata": {},
   "outputs": [],
   "source": [
    "data2.join(fatal, non_fatal)"
   ]
  },
  {
   "cell_type": "code",
   "execution_count": null,
   "metadata": {},
   "outputs": [],
   "source": [
    "# data = data.loc[data['Fatal'] <= 1]"
   ]
  },
  {
   "cell_type": "code",
   "execution_count": null,
   "metadata": {},
   "outputs": [],
   "source": [
    "print(data['Fatal'].value_counts())\n",
    "print(data['ACRS Report Type'].value_counts())"
   ]
  },
  {
   "cell_type": "code",
   "execution_count": null,
   "metadata": {},
   "outputs": [],
   "source": [
    "data['Road Condition'] = data['Road Condition'].factorize()[0]\n",
    "data['Road Alignment'] = data['Road Alignment'].factorize()[0]"
   ]
  },
  {
   "cell_type": "markdown",
   "metadata": {},
   "source": [
    "# Decision Tree Classifier Using 2 Features"
   ]
  },
  {
   "cell_type": "code",
   "execution_count": null,
   "metadata": {},
   "outputs": [],
   "source": [
    "from sklearn.tree import DecisionTreeClassifier\n",
    "from sklearn.model_selection import train_test_split\n",
    "from sklearn.metrics import accuracy_score"
   ]
  },
  {
   "cell_type": "code",
   "execution_count": null,
   "metadata": {},
   "outputs": [],
   "source": [
    "feature_cols = ['Road Condition', 'Road Alignment']\n",
    "\n",
    "X = data[feature_cols]\n",
    "y = data.Fatal"
   ]
  },
  {
   "cell_type": "code",
   "execution_count": null,
   "metadata": {},
   "outputs": [],
   "source": [
    "X_train, X_test, y_train, y_test = train_test_split(X, y, \n",
    "                                                   test_size = 0.2,\n",
    "                                                    stratify = y, \n",
    "                                                   random_state = 3)"
   ]
  },
  {
   "cell_type": "code",
   "execution_count": null,
   "metadata": {},
   "outputs": [],
   "source": [
    "dt = DecisionTreeClassifier(criterion = 'gini', random_state = 1)"
   ]
  },
  {
   "cell_type": "code",
   "execution_count": null,
   "metadata": {},
   "outputs": [],
   "source": [
    "dt.fit(X_train, y_train)"
   ]
  },
  {
   "cell_type": "code",
   "execution_count": null,
   "metadata": {},
   "outputs": [],
   "source": [
    "y_pred = dt.predict(X_test)"
   ]
  },
  {
   "cell_type": "code",
   "execution_count": null,
   "metadata": {},
   "outputs": [],
   "source": [
    "accuracy_score(y_test, y_pred)"
   ]
  },
  {
   "cell_type": "code",
   "execution_count": null,
   "metadata": {},
   "outputs": [],
   "source": [
    "# zips the feature importance to the feature cols\n",
    "list(zip(feature_cols, dt.feature_importances_))"
   ]
  },
  {
   "cell_type": "markdown",
   "metadata": {},
   "source": [
    "# Decision Tree Classifier using More Features"
   ]
  },
  {
   "cell_type": "code",
   "execution_count": 197,
   "metadata": {},
   "outputs": [
    {
     "data": {
      "text/plain": [
       "Index(['Report Number', 'Local Case Number', 'Agency Name', 'ACRS Report Type',\n",
       "       'Crash Date/Time', 'Hit/Run', 'Route Type', 'Mile Point',\n",
       "       'Mile Point Direction', 'Lane Direction', 'Lane Number', 'Lane Type',\n",
       "       'Number of Lanes', 'Direction', 'Distance', 'Distance Unit',\n",
       "       'Road Grade', 'NonTraffic', 'Road Name', 'Cross-Street Type',\n",
       "       'Cross-Street Name', 'Off-Road Description', 'Municipality',\n",
       "       'Related Non-Motorist', 'At Fault', 'Collision Type', 'Weather',\n",
       "       'Surface Condition', 'Light', 'Traffic Control',\n",
       "       'Driver Substance Abuse', 'Non-Motorist Substance Abuse',\n",
       "       'First Harmful Event', 'Second Harmful Event', 'Fixed Oject Struck',\n",
       "       'Junction', 'Intersection Type', 'Intersection Area', 'Road Alignment',\n",
       "       'Road Condition', 'Road Division', 'Latitude', 'Longitude', 'Location',\n",
       "       'Fatal'],\n",
       "      dtype='object')"
      ]
     },
     "execution_count": 197,
     "metadata": {},
     "output_type": "execute_result"
    }
   ],
   "source": [
    "data.columns"
   ]
  },
  {
   "cell_type": "code",
   "execution_count": 198,
   "metadata": {},
   "outputs": [
    {
     "data": {
      "text/plain": [
       "No     39484\n",
       "Yes     8108\n",
       "Name: Hit/Run, dtype: int64"
      ]
     },
     "execution_count": 198,
     "metadata": {},
     "output_type": "execute_result"
    }
   ],
   "source": [
    "data['Hit/Run'].value_counts()"
   ]
  },
  {
   "cell_type": "code",
   "execution_count": 199,
   "metadata": {},
   "outputs": [],
   "source": [
    "data['Road Grade'] = data['Road Grade'].factorize()[0]\n",
    "data['Collision Type'] = data['Collision Type'].factorize()[0]\n",
    "data['Weather'] = data['Weather'].factorize()[0]\n",
    "data['Surface Condition'] = data['Surface Condition'].factorize()[0]\n",
    "data['Driver Substance Abuse'] = data['Driver Substance Abuse'].factorize()[0]\n",
    "data['Road Condition'] = data['Road Condition'].factorize()[0]\n",
    "data['Junction'] = data['Junction'].factorize()[0]\n",
    "data['Intersection Type'] = data['Intersection Type'].factorize()[0]\n",
    "data['Road Alignment'] = data['Road Alignment'].factorize()[0]\n",
    "data['Road Division'] = data['Road Division'].factorize()[0]\n",
    "data['Traffic Control'] = data['Traffic Control'].factorize()[0]\n",
    "data['Number of Lanes'] = data['Number of Lanes'].factorize()[0]"
   ]
  },
  {
   "cell_type": "code",
   "execution_count": 200,
   "metadata": {},
   "outputs": [],
   "source": [
    "feature_cols = ['Road Grade',\n",
    "                'Weather',\n",
    "                'Surface Condition',\n",
    "                'Driver Substance Abuse',\n",
    "                'Road Condition',\n",
    "                'Junction',\n",
    "                'Intersection Type',\n",
    "                'Road Alignment',\n",
    "                'Road Division',\n",
    "                'Traffic Control',\n",
    "                'Number of Lanes']\n",
    "\n",
    "X = data[feature_cols]\n",
    "y = data.Fatal"
   ]
  },
  {
   "cell_type": "code",
   "execution_count": 201,
   "metadata": {},
   "outputs": [],
   "source": [
    "X_train, X_test, y_train, y_test = train_test_split(X, y, \n",
    "                                                   test_size = 0.2,\n",
    "                                                    stratify = y, \n",
    "                                                   random_state = 3)"
   ]
  },
  {
   "cell_type": "code",
   "execution_count": 202,
   "metadata": {},
   "outputs": [],
   "source": [
    "dt = DecisionTreeClassifier()"
   ]
  },
  {
   "cell_type": "code",
   "execution_count": 203,
   "metadata": {},
   "outputs": [
    {
     "data": {
      "text/plain": [
       "DecisionTreeClassifier(class_weight=None, criterion='gini', max_depth=None,\n",
       "                       max_features=None, max_leaf_nodes=None,\n",
       "                       min_impurity_decrease=0.0, min_impurity_split=None,\n",
       "                       min_samples_leaf=1, min_samples_split=2,\n",
       "                       min_weight_fraction_leaf=0.0, presort=False,\n",
       "                       random_state=None, splitter='best')"
      ]
     },
     "execution_count": 203,
     "metadata": {},
     "output_type": "execute_result"
    }
   ],
   "source": [
    "dt.fit(X_train, y_train)"
   ]
  },
  {
   "cell_type": "code",
   "execution_count": 204,
   "metadata": {},
   "outputs": [
    {
     "data": {
      "text/plain": [
       "0.6400882445635045"
      ]
     },
     "execution_count": 204,
     "metadata": {},
     "output_type": "execute_result"
    }
   ],
   "source": [
    "accuracy_score(y_test, y_pred)"
   ]
  },
  {
   "cell_type": "code",
   "execution_count": 205,
   "metadata": {},
   "outputs": [
    {
     "data": {
      "text/plain": [
       "array([0.14152624, 0.11955525, 0.08221963, 0.08129047, 0.04633167,\n",
       "       0.0918506 , 0.08194841, 0.0548273 , 0.09552787, 0.0984523 ,\n",
       "       0.10647026])"
      ]
     },
     "execution_count": 205,
     "metadata": {},
     "output_type": "execute_result"
    }
   ],
   "source": [
    "# gives us the importance of each feature\n",
    "dt.feature_importances_"
   ]
  },
  {
   "cell_type": "code",
   "execution_count": 206,
   "metadata": {},
   "outputs": [
    {
     "name": "stdout",
     "output_type": "stream",
     "text": [
      "                         0      1\n",
      "0               Road Grade  14.15\n",
      "1                  Weather  11.96\n",
      "2        Surface Condition   8.22\n",
      "3   Driver Substance Abuse   8.13\n",
      "4           Road Condition   4.63\n",
      "5                 Junction   9.19\n",
      "6        Intersection Type   8.19\n",
      "7           Road Alignment   5.48\n",
      "8            Road Division   9.55\n",
      "9          Traffic Control   9.85\n",
      "10         Number of Lanes  10.65\n"
     ]
    }
   ],
   "source": [
    "# zips the feature importance to the feature cols\n",
    "feature_important = list(zip(feature_cols, dt.feature_importances_))\n",
    "\n",
    "# turns feature_importances list into df\n",
    "feature_important = pd.DataFrame(feature_important)\n",
    "\n",
    "# to get percents from the decimals\n",
    "feature_important[1] = round(feature_important[1] * 100, 2)\n",
    "\n",
    "#print feature_importances\n",
    "print(feature_important)"
   ]
  },
  {
   "cell_type": "code",
   "execution_count": 210,
   "metadata": {},
   "outputs": [
    {
     "data": {
      "text/plain": [
       "Text(0.5, 1.0, 'Feature Importance in Decision Tree Model')"
      ]
     },
     "execution_count": 210,
     "metadata": {},
     "output_type": "execute_result"
    },
    {
     "data": {
      "text/plain": [
       "<Figure size 864x720 with 0 Axes>"
      ]
     },
     "metadata": {},
     "output_type": "display_data"
    },
    {
     "data": {
      "image/png": "[encoded data removed]",
      "text/plain": [
       "<Figure size 864x432 with 1 Axes>"
      ]
     },
     "metadata": {},
     "output_type": "display_data"
    }
   ],
   "source": [
    "plt.figure(figsize = (12, 10))\n",
    "feature_important.plot.bar(0, 1, figsize = (12, 6))\n",
    "plt.xlabel('Feature')\n",
    "plt.ylabel('Importance')\n",
    "plt.title('Feature Importance in Decision Tree Model')"
   ]
  },
  {
   "cell_type": "code",
   "execution_count": 208,
   "metadata": {},
   "outputs": [],
   "source": [
    "from sklearn.metrics import confusion_matrix"
   ]
  },
  {
   "cell_type": "code",
   "execution_count": 209,
   "metadata": {},
   "outputs": [
    {
     "data": {
      "text/plain": [
       "array([[6088,    1,    0],\n",
       "       [3401,    5,    0],\n",
       "       [  24,    0,    0]], dtype=int64)"
      ]
     },
     "execution_count": 209,
     "metadata": {},
     "output_type": "execute_result"
    }
   ],
   "source": [
    "confusion_matrix(y_test, y_pred, labels=None, sample_weight=None)"
   ]
  },
  {
   "cell_type": "code",
   "execution_count": 171,
   "metadata": {},
   "outputs": [],
   "source": [
    "from sklearn import metrics"
   ]
  },
  {
   "cell_type": "code",
   "execution_count": 179,
   "metadata": {},
   "outputs": [],
   "source": [
    "from sklearn.metrics import confusion_matrix"
   ]
  },
  {
   "cell_type": "code",
   "execution_count": 180,
   "metadata": {},
   "outputs": [
    {
     "ename": "NameError",
     "evalue": "name 'sklearn' is not defined",
     "output_type": "error",
     "traceback": [
      "\u001b[1;31m---------------------------------------------------------------------------\u001b[0m",
      "\u001b[1;31mNameError\u001b[0m                                 Traceback (most recent call last)",
      "\u001b[1;32m<ipython-input-180-f6eced5c0181>\u001b[0m in \u001b[0;36m<module>\u001b[1;34m\u001b[0m\n\u001b[1;32m----> 1\u001b[1;33m \u001b[0msklearn\u001b[0m\u001b[1;33m.\u001b[0m\u001b[0mmetrics\u001b[0m\u001b[1;33m.\u001b[0m\u001b[0mconfusion_matrix\u001b[0m\u001b[1;33m(\u001b[0m\u001b[0my_true\u001b[0m\u001b[1;33m,\u001b[0m \u001b[0my_pred\u001b[0m\u001b[1;33m,\u001b[0m \u001b[0mlabels\u001b[0m\u001b[1;33m=\u001b[0m\u001b[1;32mNone\u001b[0m\u001b[1;33m,\u001b[0m \u001b[0msample_weight\u001b[0m\u001b[1;33m=\u001b[0m\u001b[1;32mNone\u001b[0m\u001b[1;33m)\u001b[0m\u001b[1;33m[\u001b[0m\u001b[0msource\u001b[0m\u001b[1;33m]\u001b[0m\u001b[1;33m\u001b[0m\u001b[1;33m\u001b[0m\u001b[0m\n\u001b[0m",
      "\u001b[1;31mNameError\u001b[0m: name 'sklearn' is not defined"
     ]
    }
   ],
   "source": [
    "sklearn.metrics.confusion_matrix(y_true, y_pred, labels=None, sample_weight=None)[source]"
   ]
  },
  {
   "cell_type": "code",
   "execution_count": 246,
   "metadata": {},
   "outputs": [],
   "source": [
    "#Evaluation of Model - Confusion Matrix Plot\n",
    "def plot_confusion_matrix(cm, classes,\n",
    "                          normalize=False,\n",
    "                          title='Confusion matrix',\n",
    "                          cmap=plt.cm.Blues):\n",
    "    \"\"\"\n",
    "    This function prints and plots the confusion matrix.\n",
    "    Normalization can be applied by setting `normalize=True`.\n",
    "    \"\"\"\n",
    "    if normalize:\n",
    "        cm = cm.astype('float') / cm.sum(axis=1)[:, np.newaxis]\n",
    "        print(\"Normalized confusion matrix\")\n",
    "    else:\n",
    "        print('Confusion matrix, without normalization')\n",
    "\n",
    "    print(cm)\n",
    "\n",
    "    plt.imshow(cm, interpolation='nearest', cmap=cmap)\n",
    "    plt.title(title)\n",
    "    plt.colorbar()\n",
    "    tick_marks = np.arange(len(classes))\n",
    "    plt.xticks(tick_marks, classes, rotation=45)\n",
    "    plt.yticks(tick_marks, classes)\n",
    "\n",
    "    fmt = '.2f' if normalize else 'd'\n",
    "    thresh = cm.max() / 2.\n",
    "    for i, j in itertools.product(range(cm.shape[0]), range(cm.shape[1])):\n",
    "        plt.text(j, i, format(cm[i, j], fmt),\n",
    "                 horizontalalignment=\"center\",\n",
    "                 color=\"white\" if cm[i, j] > thresh else \"black\")\n",
    "\n",
    "    plt.ylabel('True label')\n",
    "    plt.xlabel('Predicted label')\n",
    "    plt.tight_layout()"
   ]
  },
  {
   "cell_type": "code",
   "execution_count": 247,
   "metadata": {},
   "outputs": [],
   "source": [
    "import itertools"
   ]
  },
  {
   "cell_type": "code",
   "execution_count": 248,
   "metadata": {},
   "outputs": [
    {
     "name": "stdout",
     "output_type": "stream",
     "text": [
      "Confusion matrix, without normalization\n",
      "[[6088    1    0]\n",
      " [3401    5    0]\n",
      " [  24    0    0]]\n"
     ]
    },
    {
     "data": {
      "image/png": "[encoded data removed]",
      "text/plain": [
       "<Figure size 432x288 with 2 Axes>"
      ]
     },
     "metadata": {},
     "output_type": "display_data"
    }
   ],
   "source": [
    "# Compute confusion matrix\n",
    "cnf_matrix = confusion_matrix(y_test, y_pred)\n",
    "\n",
    "# Sas matrix not normalized\n",
    "plt.figure()\n",
    "plot_confusion_matrix(cnf_matrix, classes=['Not Fatal','Injury Only','Fatal'],\n",
    "                      title= '')"
   ]
  },
  {
   "cell_type": "code",
   "execution_count": 249,
   "metadata": {},
   "outputs": [
    {
     "data": {
      "text/plain": [
       "(9519,)"
      ]
     },
     "execution_count": 249,
     "metadata": {},
     "output_type": "execute_result"
    }
   ],
   "source": [
    "y_pred.shape"
   ]
  },
  {
   "cell_type": "code",
   "execution_count": 250,
   "metadata": {},
   "outputs": [
    {
     "data": {
      "text/plain": [
       "(9519,)"
      ]
     },
     "execution_count": 250,
     "metadata": {},
     "output_type": "execute_result"
    }
   ],
   "source": [
    "y_test.shape"
   ]
  },
  {
   "cell_type": "code",
   "execution_count": 251,
   "metadata": {},
   "outputs": [
    {
     "data": {
      "text/plain": [
       "array([0, 0, 0, ..., 0, 0, 0], dtype=int64)"
      ]
     },
     "execution_count": 251,
     "metadata": {},
     "output_type": "execute_result"
    }
   ],
   "source": [
    "y_pred"
   ]
  },
  {
   "cell_type": "code",
   "execution_count": null,
   "metadata": {},
   "outputs": [],
   "source": []
  }
 ],
 "metadata": {
  "kernelspec": {
   "display_name": "Python 3",
   "language": "python",
   "name": "python3"
  },
  "language_info": {
   "codemirror_mode": {
    "name": "ipython",
    "version": 3
   },
   "file_extension": ".py",
   "mimetype": "text/x-python",
   "name": "python",
   "nbconvert_exporter": "python",
   "pygments_lexer": "ipython3",
   "version": "3.7.3"
  }
 },
 "nbformat": 4,
 "nbformat_minor": 4
}
