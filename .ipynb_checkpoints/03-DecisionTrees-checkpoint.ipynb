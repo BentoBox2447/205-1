{
 "cells": [
  {
   "cell_type": "markdown",
   "metadata": {},
   "source": [
    "# Predicting if a Crash wll be fatal or not"
   ]
  },
  {
   "cell_type": "markdown",
   "metadata": {},
   "source": [
    "Here we will be predicting if a crash will be fatal or not\n",
    "\n",
    "Steps: \n",
    "1. Create 2 new dfs \n",
    "    - df with only fatal crashes\n",
    "    - data frame that samples all non fatal crashes from original df\n",
    "2. Concat both dfs\n",
    "3. New columns with 0 (non-fatal crash) or 1 (fatal crash)\n",
    "4. Clean up data and make dummy variables for each crash\n",
    "5. Try ML "
   ]
  },
  {
   "cell_type": "markdown",
   "metadata": {},
   "source": [
    "Columns to use for ML\n",
    "### Columns to use for ML\n",
    "- 'Road Grade', \n",
    "- 'Collision Type', \n",
    "- 'Weather', \n",
    "- 'Surface Condition', \n",
    "- 'Driver Substance Abuse', \n",
    "- 'Road Condition', \n",
    "- 'Fixed Objec Struck', \n",
    "- 'Junction', \n",
    "- 'Intersection Type', \n",
    "- 'Road Alignment', \n",
    "- 'Road Division',\n",
    "- 'Traffic Control',\n",
    "- 'Number of Lanes'"
   ]
  },
  {
   "cell_type": "markdown",
   "metadata": {},
   "source": [
    "### Columns to delete\n",
    "- 'Report Number', \n",
    "- 'Local Case Number', \n",
    "- 'Agency Name', \n",
    "- 'Mile Point', \n",
    "- 'Mile Point Direction', \n",
    "- 'Lane Direction', \n",
    "- 'Direction', \n",
    "- 'Distance', \n",
    "- 'Distance Unit', \n",
    "- 'Road Name', \n",
    "- 'Off-Road Description', \n",
    "- 'First Harmful Event', \n",
    "- 'Latitude', \n",
    "- 'Longitude', \n",
    "- 'Location', "
   ]
  },
  {
   "cell_type": "code",
   "execution_count": 1,
   "metadata": {},
   "outputs": [],
   "source": [
    "# import libraries \n",
    "\n",
    "import pandas as pd\n",
    "import numpy as np\n",
    "from sklearn import preprocessing\n",
    "import matplotlib.pyplot as plt \n",
    "plt.rc(\"font\", size=14)\n",
    "from sklearn.linear_model import LogisticRegression\n",
    "from sklearn.model_selection import train_test_split\n",
    "import seaborn as sns\n",
    "sns.set(style=\"white\")\n",
    "sns.set(style=\"whitegrid\", color_codes=True)"
   ]
  },
  {
   "cell_type": "code",
   "execution_count": 2,
   "metadata": {},
   "outputs": [
    {
     "data": {
      "text/plain": [
       "(47592, 44)"
      ]
     },
     "execution_count": 2,
     "metadata": {},
     "output_type": "execute_result"
    }
   ],
   "source": [
    "# reading in data \n",
    "data = pd.read_csv('data/00-crash_reporting_incidents.csv', low_memory = False)\n",
    "data.shape"
   ]
  },
  {
   "cell_type": "code",
   "execution_count": 5,
   "metadata": {},
   "outputs": [
    {
     "data": {
      "text/plain": [
       "['SAME DIRECTION SIDESWIPE',\n",
       " 'OPPOSITE DIRECTION SIDESWIPE',\n",
       " 'SAME DIRECTION LEFT TURN',\n",
       " 'OTHER',\n",
       " 'SAME DIR REAR END',\n",
       " 'SINGLE VEHICLE',\n",
       " 'UNKNOWN',\n",
       " 'HEAD ON LEFT TURN',\n",
       " 'STRAIGHT MOVEMENT ANGLE',\n",
       " 'SAME DIRECTION RIGHT TURN',\n",
       " 'ANGLE MEETS LEFT TURN',\n",
       " 'HEAD ON',\n",
       " nan,\n",
       " 'SAME DIR REND LEFT TURN',\n",
       " 'ANGLE MEETS RIGHT TURN',\n",
       " 'ANGLE MEETS LEFT HEAD ON',\n",
       " 'SAME DIR REND RIGHT TURN',\n",
       " 'OPPOSITE DIR BOTH LEFT TURN',\n",
       " 'SAME DIR BOTH LEFT TURN']"
      ]
     },
     "execution_count": 5,
     "metadata": {},
     "output_type": "execute_result"
    }
   ],
   "source": [
    "data['Collision Type'].unique().tolist()"
   ]
  },
  {
   "cell_type": "code",
   "execution_count": 72,
   "metadata": {},
   "outputs": [],
   "source": [
    "# create new y column 'Fatal' \n",
    "data['Fatal'] = \"\"\n",
    "\n",
    "# fill new column using factorize method, to turning category into int\n",
    "data['Fatal'] = data['ACRS Report Type'].factorize()[0]"
   ]
  },
  {
   "cell_type": "code",
   "execution_count": 73,
   "metadata": {},
   "outputs": [
    {
     "name": "stdout",
     "output_type": "stream",
     "text": [
      "0    30442\n",
      "1    17031\n",
      "2      119\n",
      "Name: Fatal, dtype: int64\n",
      "Property Damage Crash    30442\n",
      "Injury Crash             17031\n",
      "Fatal Crash                119\n",
      "Name: ACRS Report Type, dtype: int64\n"
     ]
    }
   ],
   "source": [
    "print(data['Fatal'].value_counts())\n",
    "print(data['ACRS Report Type'].value_counts())"
   ]
  },
  {
   "cell_type": "code",
   "execution_count": 74,
   "metadata": {},
   "outputs": [],
   "source": [
    "data['Road Condition'] = data['Road Condition'].factorize()[0]\n",
    "data['Road Alignment'] = data['Road Alignment'].factorize()[0]"
   ]
  },
  {
   "cell_type": "markdown",
   "metadata": {},
   "source": [
    "# Decision Tree Classifier Using 2 Features"
   ]
  },
  {
   "cell_type": "code",
   "execution_count": 75,
   "metadata": {},
   "outputs": [],
   "source": [
    "from sklearn.tree import DecisionTreeClassifier\n",
    "from sklearn.model_selection import train_test_split\n",
    "from sklearn.metrics import accuracy_score"
   ]
  },
  {
   "cell_type": "code",
   "execution_count": 76,
   "metadata": {},
   "outputs": [],
   "source": [
    "feature_cols = ['Road Condition', 'Road Alignment']\n",
    "\n",
    "X = data[feature_cols]\n",
    "y = data.Fatal"
   ]
  },
  {
   "cell_type": "code",
   "execution_count": 77,
   "metadata": {},
   "outputs": [],
   "source": [
    "X_train, X_test, y_train, y_test = train_test_split(X, y, \n",
    "                                                   test_size = 0.2,\n",
    "                                                    stratify = y, \n",
    "                                                   random_state = 3)"
   ]
  },
  {
   "cell_type": "code",
   "execution_count": 78,
   "metadata": {},
   "outputs": [],
   "source": [
    "dt = DecisionTreeClassifier(criterion = 'gini', random_state = 1)"
   ]
  },
  {
   "cell_type": "code",
   "execution_count": 79,
   "metadata": {},
   "outputs": [
    {
     "data": {
      "text/plain": [
       "DecisionTreeClassifier(class_weight=None, criterion='gini', max_depth=None,\n",
       "                       max_features=None, max_leaf_nodes=None,\n",
       "                       min_impurity_decrease=0.0, min_impurity_split=None,\n",
       "                       min_samples_leaf=1, min_samples_split=2,\n",
       "                       min_weight_fraction_leaf=0.0, presort=False,\n",
       "                       random_state=1, splitter='best')"
      ]
     },
     "execution_count": 79,
     "metadata": {},
     "output_type": "execute_result"
    }
   ],
   "source": [
    "dt.fit(X_train, y_train)"
   ]
  },
  {
   "cell_type": "code",
   "execution_count": 80,
   "metadata": {},
   "outputs": [],
   "source": [
    "y_pred = dt.predict(X_test)"
   ]
  },
  {
   "cell_type": "code",
   "execution_count": 81,
   "metadata": {},
   "outputs": [
    {
     "data": {
      "text/plain": [
       "0.6400882445635045"
      ]
     },
     "execution_count": 81,
     "metadata": {},
     "output_type": "execute_result"
    }
   ],
   "source": [
    "accuracy_score(y_test, y_pred)"
   ]
  },
  {
   "cell_type": "code",
   "execution_count": 82,
   "metadata": {},
   "outputs": [
    {
     "data": {
      "text/plain": [
       "array([0.05353844, 0.94646156])"
      ]
     },
     "execution_count": 82,
     "metadata": {},
     "output_type": "execute_result"
    }
   ],
   "source": [
    "# gives us the importance of each feature\n",
    "ft_importance"
   ]
  },
  {
   "cell_type": "code",
   "execution_count": 83,
   "metadata": {},
   "outputs": [
    {
     "data": {
      "text/plain": [
       "[('Road Condition', 0.05353843927955279),\n",
       " ('Road Alignment', 0.9464615607204472)]"
      ]
     },
     "execution_count": 83,
     "metadata": {},
     "output_type": "execute_result"
    }
   ],
   "source": [
    "# zips the feature importance to the feature cols\n",
    "list(zip(feature_cols, dt.feature_importances_))"
   ]
  },
  {
   "cell_type": "markdown",
   "metadata": {},
   "source": [
    "# Decision Tree Classifier using More Features"
   ]
  },
  {
   "cell_type": "code",
   "execution_count": 226,
   "metadata": {},
   "outputs": [
    {
     "data": {
      "text/plain": [
       "Index(['Report Number', 'Local Case Number', 'Agency Name', 'ACRS Report Type',\n",
       "       'Crash Date/Time', 'Hit/Run', 'Route Type', 'Mile Point',\n",
       "       'Mile Point Direction', 'Lane Direction', 'Lane Number', 'Lane Type',\n",
       "       'Number of Lanes', 'Direction', 'Distance', 'Distance Unit',\n",
       "       'Road Grade', 'NonTraffic', 'Road Name', 'Cross-Street Type',\n",
       "       'Cross-Street Name', 'Off-Road Description', 'Municipality',\n",
       "       'Related Non-Motorist', 'At Fault', 'Collision Type', 'Weather',\n",
       "       'Surface Condition', 'Light', 'Traffic Control',\n",
       "       'Driver Substance Abuse', 'Non-Motorist Substance Abuse',\n",
       "       'First Harmful Event', 'Second Harmful Event', 'Fixed Oject Struck',\n",
       "       'Junction', 'Intersection Type', 'Intersection Area', 'Road Alignment',\n",
       "       'Road Condition', 'Road Division', 'Latitude', 'Longitude', 'Location',\n",
       "       'Fatal', 'Surface Conditin', 'Driver Substanc Abuse'],\n",
       "      dtype='object')"
      ]
     },
     "execution_count": 226,
     "metadata": {},
     "output_type": "execute_result"
    }
   ],
   "source": [
    "data.columns"
   ]
  },
  {
   "cell_type": "code",
   "execution_count": 227,
   "metadata": {},
   "outputs": [
    {
     "data": {
      "text/plain": [
       "No     39484\n",
       "Yes     8108\n",
       "Name: Hit/Run, dtype: int64"
      ]
     },
     "execution_count": 227,
     "metadata": {},
     "output_type": "execute_result"
    }
   ],
   "source": [
    "data['Hit/Run'].value_counts()"
   ]
  },
  {
   "cell_type": "code",
   "execution_count": 228,
   "metadata": {},
   "outputs": [],
   "source": [
    "data['Road Grade'] = data['Road Grade'].factorize()[0]\n",
    "data['Collision Type'] = data['Collision Type'].factorize()[0]\n",
    "data['Weather'] = data['Weather'].factorize()[0]\n",
    "data['Surface Condition'] = data['Surface Condition'].factorize()[0]\n",
    "data['Driver Substance Abuse'] = data['Driver Substance Abuse'].factorize()[0]\n",
    "data['Road Condition'] = data['Road Condition'].factorize()[0]\n",
    "data['Junction'] = data['Junction'].factorize()[0]\n",
    "data['Intersection Type'] = data['Intersection Type'].factorize()[0]\n",
    "data['Road Alignment'] = data['Road Alignment'].factorize()[0]\n",
    "data['Road Division'] = data['Road Division'].factorize()[0]\n",
    "data['Traffic Control'] = data['Traffic Control'].factorize()[0]\n",
    "data['Number of Lanes'] = data['Number of Lanes'].factorize()[0]"
   ]
  },
  {
   "cell_type": "code",
   "execution_count": 229,
   "metadata": {},
   "outputs": [],
   "source": [
    "feature_cols = ['Road Grade',\n",
    "                'Collision Type',\n",
    "                'Weather',\n",
    "                'Surface Condition',\n",
    "                'Driver Substance Abuse',\n",
    "                'Road Condition',\n",
    "                'Junction',\n",
    "                'Intersection Type',\n",
    "                'Road Alignment',\n",
    "                'Road Division',\n",
    "                'Traffic Control',\n",
    "                'Number of Lanes']\n",
    "\n",
    "X = data[feature_cols]\n",
    "y = data.Fatal"
   ]
  },
  {
   "cell_type": "code",
   "execution_count": 230,
   "metadata": {},
   "outputs": [],
   "source": [
    "X_train, X_test, y_train, y_test = train_test_split(X, y, \n",
    "                                                   test_size = 0.2,\n",
    "                                                    stratify = y, \n",
    "                                                   random_state = 3)"
   ]
  },
  {
   "cell_type": "code",
   "execution_count": 231,
   "metadata": {},
   "outputs": [],
   "source": [
    "dt = DecisionTreeClassifier()"
   ]
  },
  {
   "cell_type": "code",
   "execution_count": 232,
   "metadata": {},
   "outputs": [
    {
     "data": {
      "text/plain": [
       "DecisionTreeClassifier(class_weight=None, criterion='gini', max_depth=None,\n",
       "                       max_features=None, max_leaf_nodes=None,\n",
       "                       min_impurity_decrease=0.0, min_impurity_split=None,\n",
       "                       min_samples_leaf=1, min_samples_split=2,\n",
       "                       min_weight_fraction_leaf=0.0, presort=False,\n",
       "                       random_state=None, splitter='best')"
      ]
     },
     "execution_count": 232,
     "metadata": {},
     "output_type": "execute_result"
    }
   ],
   "source": [
    "dt.fit(X_train, y_train)"
   ]
  },
  {
   "cell_type": "code",
   "execution_count": 233,
   "metadata": {},
   "outputs": [
    {
     "data": {
      "text/plain": [
       "0.6400882445635045"
      ]
     },
     "execution_count": 233,
     "metadata": {},
     "output_type": "execute_result"
    }
   ],
   "source": [
    "accuracy_score(y_test, y_pred)"
   ]
  },
  {
   "cell_type": "code",
   "execution_count": 234,
   "metadata": {},
   "outputs": [
    {
     "data": {
      "text/plain": [
       "array([0.08564666, 0.12695432, 0.10422648, 0.05599531, 0.07330386,\n",
       "       0.0349244 , 0.10378152, 0.08534049, 0.05059808, 0.0842183 ,\n",
       "       0.08260674, 0.11240385])"
      ]
     },
     "execution_count": 234,
     "metadata": {},
     "output_type": "execute_result"
    }
   ],
   "source": [
    "# gives us the importance of each feature\n",
    "dt.feature_importances_"
   ]
  },
  {
   "cell_type": "code",
   "execution_count": 235,
   "metadata": {},
   "outputs": [
    {
     "name": "stdout",
     "output_type": "stream",
     "text": [
      "                         0      1\n",
      "0               Road Grade   8.56\n",
      "1           Collision Type  12.70\n",
      "2                  Weather  10.42\n",
      "3        Surface Condition   5.60\n",
      "4   Driver Substance Abuse   7.33\n",
      "5           Road Condition   3.49\n",
      "6                 Junction  10.38\n",
      "7        Intersection Type   8.53\n",
      "8           Road Alignment   5.06\n",
      "9            Road Division   8.42\n",
      "10         Traffic Control   8.26\n",
      "11         Number of Lanes  11.24\n"
     ]
    }
   ],
   "source": [
    "# zips the feature importance to the feature cols\n",
    "feature_important = list(zip(feature_cols, dt.feature_importances_))\n",
    "\n",
    "# turns feature_importances list into df\n",
    "feature_important = pd.DataFrame(feature_important)\n",
    "\n",
    "# to get percents from the decimals\n",
    "feature_important[1] = round(feature_important[1] * 100, 2)\n",
    "\n",
    "#print feature_importances\n",
    "print(feature_important)"
   ]
  },
  {
   "cell_type": "code",
   "execution_count": 236,
   "metadata": {},
   "outputs": [
    {
     "data": {
      "text/plain": [
       "<Figure size 864x720 with 0 Axes>"
      ]
     },
     "execution_count": 236,
     "metadata": {},
     "output_type": "execute_result"
    },
    {
     "data": {
      "image/png": "[encoded data removed]",
      "text/plain": [
       "<Figure size 432x288 with 1 Axes>"
      ]
     },
     "metadata": {},
     "output_type": "display_data"
    },
    {
     "data": {
      "text/plain": [
       "<Figure size 864x720 with 0 Axes>"
      ]
     },
     "metadata": {},
     "output_type": "display_data"
    }
   ],
   "source": [
    "feature_important.plot.bar(0, 1)\n",
    "plt.figure(figsize = (12, 10))"
   ]
  },
  {
   "cell_type": "code",
   "execution_count": 242,
   "metadata": {},
   "outputs": [],
   "source": [
    "from sklearn.metrics import confusion_matrix"
   ]
  },
  {
   "cell_type": "code",
   "execution_count": 250,
   "metadata": {},
   "outputs": [
    {
     "data": {
      "text/plain": [
       "array([[6088,    1,    0],\n",
       "       [3401,    5,    0],\n",
       "       [  24,    0,    0]], dtype=int64)"
      ]
     },
     "execution_count": 250,
     "metadata": {},
     "output_type": "execute_result"
    }
   ],
   "source": [
    "confusion_matrix(y_test, y_pred, labels=None, sample_weight=None)"
   ]
  },
  {
   "cell_type": "code",
   "execution_count": null,
   "metadata": {},
   "outputs": [],
   "source": [
    "sklearn.metrics.confusion_matrix(y_true, y_pred, labels=None, sample_weight=None)[source]"
   ]
  },
  {
   "cell_type": "code",
   "execution_count": 254,
   "metadata": {},
   "outputs": [
    {
     "data": {
      "text/plain": [
       "(9519,)"
      ]
     },
     "execution_count": 254,
     "metadata": {},
     "output_type": "execute_result"
    }
   ],
   "source": [
    "y_pred.shape"
   ]
  },
  {
   "cell_type": "code",
   "execution_count": 260,
   "metadata": {},
   "outputs": [
    {
     "data": {
      "text/plain": [
       "(9519,)"
      ]
     },
     "execution_count": 260,
     "metadata": {},
     "output_type": "execute_result"
    }
   ],
   "source": [
    "y_test.shape"
   ]
  },
  {
   "cell_type": "code",
   "execution_count": null,
   "metadata": {},
   "outputs": [],
   "source": []
  }
 ],
 "metadata": {
  "kernelspec": {
   "display_name": "Python 3",
   "language": "python",
   "name": "python3"
  },
  "language_info": {
   "codemirror_mode": {
    "name": "ipython",
    "version": 3
   },
   "file_extension": ".py",
   "mimetype": "text/x-python",
   "name": "python",
   "nbconvert_exporter": "python",
   "pygments_lexer": "ipython3",
   "version": "3.7.3"
  }
 },
 "nbformat": 4,
 "nbformat_minor": 4
}
