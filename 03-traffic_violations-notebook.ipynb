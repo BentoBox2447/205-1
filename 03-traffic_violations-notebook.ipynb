{
 "cells": [
  {
   "cell_type": "code",
   "execution_count": 4,
   "metadata": {},
   "outputs": [],
   "source": [
    "import pandas as pd\n",
    "import numpy as np\n",
    "import matplotlib.pyplot as plt"
   ]
  },
  {
   "cell_type": "code",
   "execution_count": 5,
   "metadata": {},
   "outputs": [],
   "source": [
    "data = pd.read_csv('data/Traffic_Violations (2).csv', low_memory = False)"
   ]
  },
  {
   "cell_type": "code",
   "execution_count": 6,
   "metadata": {},
   "outputs": [
    {
     "data": {
      "text/html": [
       "<div>\n",
       "<style scoped>\n",
       "    .dataframe tbody tr th:only-of-type {\n",
       "        vertical-align: middle;\n",
       "    }\n",
       "\n",
       "    .dataframe tbody tr th {\n",
       "        vertical-align: top;\n",
       "    }\n",
       "\n",
       "    .dataframe thead th {\n",
       "        text-align: right;\n",
       "    }\n",
       "</style>\n",
       "<table border=\"1\" class=\"dataframe\">\n",
       "  <thead>\n",
       "    <tr style=\"text-align: right;\">\n",
       "      <th></th>\n",
       "      <th>SeqID</th>\n",
       "      <th>Date Of Stop</th>\n",
       "      <th>Time Of Stop</th>\n",
       "      <th>Agency</th>\n",
       "      <th>SubAgency</th>\n",
       "      <th>Description</th>\n",
       "      <th>Location</th>\n",
       "      <th>Latitude</th>\n",
       "      <th>Longitude</th>\n",
       "      <th>Accident</th>\n",
       "      <th>...</th>\n",
       "      <th>Charge</th>\n",
       "      <th>Article</th>\n",
       "      <th>Contributed To Accident</th>\n",
       "      <th>Race</th>\n",
       "      <th>Gender</th>\n",
       "      <th>Driver City</th>\n",
       "      <th>Driver State</th>\n",
       "      <th>DL State</th>\n",
       "      <th>Arrest Type</th>\n",
       "      <th>Geolocation</th>\n",
       "    </tr>\n",
       "  </thead>\n",
       "  <tbody>\n",
       "    <tr>\n",
       "      <th>0</th>\n",
       "      <td>02ccadf1-7ebd-48d8-a793-913e3198f52a</td>\n",
       "      <td>07/30/2019</td>\n",
       "      <td>22:15:00</td>\n",
       "      <td>MCP</td>\n",
       "      <td>2nd District, Bethesda</td>\n",
       "      <td>EXCEEDING THE POSTED SPEED LIMIT OF 35 MPH</td>\n",
       "      <td>RIVER RD/ROYAL DOMINION DR</td>\n",
       "      <td>38.990102</td>\n",
       "      <td>-77.151645</td>\n",
       "      <td>No</td>\n",
       "      <td>...</td>\n",
       "      <td>21-801.1</td>\n",
       "      <td>Transportation Article</td>\n",
       "      <td>False</td>\n",
       "      <td>ASIAN</td>\n",
       "      <td>F</td>\n",
       "      <td>FAIRFAX</td>\n",
       "      <td>VA</td>\n",
       "      <td>VA</td>\n",
       "      <td>Q - Marked Laser</td>\n",
       "      <td>(38.9901016666667, -77.151645)</td>\n",
       "    </tr>\n",
       "    <tr>\n",
       "      <th>1</th>\n",
       "      <td>3b060228-d664-4480-9314-6188ee8ac891</td>\n",
       "      <td>07/07/2019</td>\n",
       "      <td>22:54:00</td>\n",
       "      <td>MCP</td>\n",
       "      <td>4th District, Wheaton</td>\n",
       "      <td>FAILURE TO STOP AT STOP SIGN</td>\n",
       "      <td>ENNALLS AVE @ GEORGIA AVE</td>\n",
       "      <td>39.040360</td>\n",
       "      <td>-77.051137</td>\n",
       "      <td>No</td>\n",
       "      <td>...</td>\n",
       "      <td>21-707(a)</td>\n",
       "      <td>Transportation Article</td>\n",
       "      <td>False</td>\n",
       "      <td>HISPANIC</td>\n",
       "      <td>M</td>\n",
       "      <td>SILVER SPRING</td>\n",
       "      <td>MD</td>\n",
       "      <td>MD</td>\n",
       "      <td>A - Marked Patrol</td>\n",
       "      <td>(39.04036, -77.0511366666667)</td>\n",
       "    </tr>\n",
       "    <tr>\n",
       "      <th>2</th>\n",
       "      <td>d4dd55c0-adb0-434e-b5d9-d8346b0a4080</td>\n",
       "      <td>07/10/2019</td>\n",
       "      <td>16:00:00</td>\n",
       "      <td>MCP</td>\n",
       "      <td>1st District, Rockville</td>\n",
       "      <td>HEADLIGHT INOPERATIVE</td>\n",
       "      <td>SHADY GROVE @ TUPELO</td>\n",
       "      <td>0.000000</td>\n",
       "      <td>0.000000</td>\n",
       "      <td>No</td>\n",
       "      <td>...</td>\n",
       "      <td>11-393.9</td>\n",
       "      <td>Maryland Rules</td>\n",
       "      <td>False</td>\n",
       "      <td>HISPANIC</td>\n",
       "      <td>M</td>\n",
       "      <td>ALEXANDRIA</td>\n",
       "      <td>VA</td>\n",
       "      <td>VA</td>\n",
       "      <td>A - Marked Patrol</td>\n",
       "      <td>(0.0, 0.0)</td>\n",
       "    </tr>\n",
       "    <tr>\n",
       "      <th>3</th>\n",
       "      <td>abd509c6-edb3-4818-b90a-477cf92755e6</td>\n",
       "      <td>08/15/2019</td>\n",
       "      <td>22:42:00</td>\n",
       "      <td>MCP</td>\n",
       "      <td>2nd District, Bethesda</td>\n",
       "      <td>DRIVING VEH. W/O ADEQUATE REAR REG. PLATE ILLU...</td>\n",
       "      <td>355 AT JONES BRIDGE RD</td>\n",
       "      <td>38.997645</td>\n",
       "      <td>-77.096600</td>\n",
       "      <td>No</td>\n",
       "      <td>...</td>\n",
       "      <td>22-204(f)</td>\n",
       "      <td>Transportation Article</td>\n",
       "      <td>False</td>\n",
       "      <td>WHITE</td>\n",
       "      <td>F</td>\n",
       "      <td>POTOMAC</td>\n",
       "      <td>MD</td>\n",
       "      <td>MD</td>\n",
       "      <td>A - Marked Patrol</td>\n",
       "      <td>(38.997645, -77.0966)</td>\n",
       "    </tr>\n",
       "    <tr>\n",
       "      <th>4</th>\n",
       "      <td>021d5a2d-7989-4b52-a983-7f6e462fc123</td>\n",
       "      <td>04/15/2019</td>\n",
       "      <td>05:49:00</td>\n",
       "      <td>MCP</td>\n",
       "      <td>5th District, Germantown</td>\n",
       "      <td>DRIVER CHANGING LANES WHEN UNSAFE</td>\n",
       "      <td>GERMANTOWN AT SHAKESPEARE RD</td>\n",
       "      <td>0.000000</td>\n",
       "      <td>0.000000</td>\n",
       "      <td>No</td>\n",
       "      <td>...</td>\n",
       "      <td>21-309(b)</td>\n",
       "      <td>Transportation Article</td>\n",
       "      <td>False</td>\n",
       "      <td>BLACK</td>\n",
       "      <td>F</td>\n",
       "      <td>MONTGOMERY VILLAGE</td>\n",
       "      <td>MD</td>\n",
       "      <td>MD</td>\n",
       "      <td>A - Marked Patrol</td>\n",
       "      <td>(0.0, 0.0)</td>\n",
       "    </tr>\n",
       "  </tbody>\n",
       "</table>\n",
       "<p>5 rows × 43 columns</p>\n",
       "</div>"
      ],
      "text/plain": [
       "                                  SeqID Date Of Stop Time Of Stop Agency  \\\n",
       "0  02ccadf1-7ebd-48d8-a793-913e3198f52a   07/30/2019     22:15:00    MCP   \n",
       "1  3b060228-d664-4480-9314-6188ee8ac891   07/07/2019     22:54:00    MCP   \n",
       "2  d4dd55c0-adb0-434e-b5d9-d8346b0a4080   07/10/2019     16:00:00    MCP   \n",
       "3  abd509c6-edb3-4818-b90a-477cf92755e6   08/15/2019     22:42:00    MCP   \n",
       "4  021d5a2d-7989-4b52-a983-7f6e462fc123   04/15/2019     05:49:00    MCP   \n",
       "\n",
       "                  SubAgency  \\\n",
       "0    2nd District, Bethesda   \n",
       "1     4th District, Wheaton   \n",
       "2   1st District, Rockville   \n",
       "3    2nd District, Bethesda   \n",
       "4  5th District, Germantown   \n",
       "\n",
       "                                         Description  \\\n",
       "0         EXCEEDING THE POSTED SPEED LIMIT OF 35 MPH   \n",
       "1                       FAILURE TO STOP AT STOP SIGN   \n",
       "2                              HEADLIGHT INOPERATIVE   \n",
       "3  DRIVING VEH. W/O ADEQUATE REAR REG. PLATE ILLU...   \n",
       "4                  DRIVER CHANGING LANES WHEN UNSAFE   \n",
       "\n",
       "                       Location   Latitude  Longitude Accident  ...  \\\n",
       "0    RIVER RD/ROYAL DOMINION DR  38.990102 -77.151645       No  ...   \n",
       "1     ENNALLS AVE @ GEORGIA AVE  39.040360 -77.051137       No  ...   \n",
       "2          SHADY GROVE @ TUPELO   0.000000   0.000000       No  ...   \n",
       "3        355 AT JONES BRIDGE RD  38.997645 -77.096600       No  ...   \n",
       "4  GERMANTOWN AT SHAKESPEARE RD   0.000000   0.000000       No  ...   \n",
       "\n",
       "      Charge                 Article Contributed To Accident      Race Gender  \\\n",
       "0   21-801.1  Transportation Article                   False     ASIAN      F   \n",
       "1  21-707(a)  Transportation Article                   False  HISPANIC      M   \n",
       "2   11-393.9          Maryland Rules                   False  HISPANIC      M   \n",
       "3  22-204(f)  Transportation Article                   False     WHITE      F   \n",
       "4  21-309(b)  Transportation Article                   False     BLACK      F   \n",
       "\n",
       "          Driver City Driver State DL State        Arrest Type  \\\n",
       "0             FAIRFAX           VA       VA   Q - Marked Laser   \n",
       "1       SILVER SPRING           MD       MD  A - Marked Patrol   \n",
       "2          ALEXANDRIA           VA       VA  A - Marked Patrol   \n",
       "3             POTOMAC           MD       MD  A - Marked Patrol   \n",
       "4  MONTGOMERY VILLAGE           MD       MD  A - Marked Patrol   \n",
       "\n",
       "                      Geolocation  \n",
       "0  (38.9901016666667, -77.151645)  \n",
       "1   (39.04036, -77.0511366666667)  \n",
       "2                      (0.0, 0.0)  \n",
       "3           (38.997645, -77.0966)  \n",
       "4                      (0.0, 0.0)  \n",
       "\n",
       "[5 rows x 43 columns]"
      ]
     },
     "execution_count": 6,
     "metadata": {},
     "output_type": "execute_result"
    }
   ],
   "source": [
    "data.head()"
   ]
  },
  {
   "cell_type": "code",
   "execution_count": 31,
   "metadata": {},
   "outputs": [],
   "source": [
    "data = data.rename(columns = {'Search Conducted' : 'Search'})"
   ]
  },
  {
   "cell_type": "code",
   "execution_count": 32,
   "metadata": {},
   "outputs": [
    {
     "data": {
      "text/plain": [
       "['SeqID',\n",
       " 'Date Of Stop',\n",
       " 'Time Of Stop',\n",
       " 'Agency',\n",
       " 'SubAgency',\n",
       " 'Description',\n",
       " 'Location',\n",
       " 'Latitude',\n",
       " 'Longitude',\n",
       " 'Accident',\n",
       " 'Belts',\n",
       " 'Personal Injury',\n",
       " 'Property Damage',\n",
       " 'Fatal',\n",
       " 'Commercial License',\n",
       " 'HAZMAT',\n",
       " 'Commercial Vehicle',\n",
       " 'Alcohol',\n",
       " 'Work Zone',\n",
       " 'Search',\n",
       " 'Search Disposition',\n",
       " 'Search Outcome',\n",
       " 'Search Reason',\n",
       " 'Search Reason For Stop',\n",
       " 'Search Type',\n",
       " 'Search Arrest Reason',\n",
       " 'State',\n",
       " 'VehicleType',\n",
       " 'Year',\n",
       " 'Make',\n",
       " 'Model',\n",
       " 'Color',\n",
       " 'Violation Type',\n",
       " 'Charge',\n",
       " 'Article',\n",
       " 'Contributed To Accident',\n",
       " 'Race',\n",
       " 'Gender',\n",
       " 'Driver City',\n",
       " 'Driver State',\n",
       " 'DL State',\n",
       " 'Arrest Type',\n",
       " 'Geolocation']"
      ]
     },
     "execution_count": 32,
     "metadata": {},
     "output_type": "execute_result"
    }
   ],
   "source": [
    "data.columns.to_list()"
   ]
  },
  {
   "cell_type": "code",
   "execution_count": 17,
   "metadata": {},
   "outputs": [
    {
     "name": "stdout",
     "output_type": "stream",
     "text": [
      "WHITE              566346\n",
      "BLACK              509102\n",
      "HISPANIC           343892\n",
      "ASIAN               93714\n",
      "OTHER               89020\n",
      "NATIVE AMERICAN      3233\n",
      "Name: Race, dtype: int64\n",
      "WHITE              0.352796\n",
      "BLACK              0.317137\n",
      "HISPANIC           0.214222\n",
      "ASIAN              0.058378\n",
      "OTHER              0.055454\n",
      "NATIVE AMERICAN    0.002014\n",
      "Name: Race, dtype: float64\n"
     ]
    },
    {
     "data": {
      "text/plain": [
       "<matplotlib.axes._subplots.AxesSubplot at 0x1f90010f438>"
      ]
     },
     "execution_count": 17,
     "metadata": {},
     "output_type": "execute_result"
    },
    {
     "data": {
      "image/png": "[encoded data removed]",
      "text/plain": [
       "<Figure size 432x288 with 1 Axes>"
      ]
     },
     "metadata": {
      "needs_background": "light"
     },
     "output_type": "display_data"
    }
   ],
   "source": [
    "print(data.Race.value_counts())\n",
    "print(data.Race.value_counts(normalize = True))\n",
    "data.Race.value_counts().plot.bar()"
   ]
  },
  {
   "cell_type": "markdown",
   "metadata": {},
   "source": [
    "**566,346 white people were pulled over  \n",
    "509,102 black people where pulled over**"
   ]
  },
  {
   "cell_type": "markdown",
   "metadata": {},
   "source": [
    "Population estimates for Montgomery County as of 2018 is 1,052,567, according to the U.S Census Bureau.  \n",
    "White people account for 60.2% percent of the population in Moco, Black people account for 19.9% of the population in Moco.  \n",
    "\n",
    "This means white people account for 633,645 persons and black pepople accout 209,461 persons.  "
   ]
  },
  {
   "cell_type": "markdown",
   "metadata": {},
   "source": [
    "https://www.census.gov/quickfacts/fact/table/montgomerycountymaryland/RHI125218#RHI125218"
   ]
  },
  {
   "cell_type": "markdown",
   "metadata": {},
   "source": [
    "#### This means while white people make up 60% percent of the montgomery county population, they were only pulled over 35% of the time. \n",
    "#### And while black people only make up 19.9% of the population, they were pulled over 31% of the time\n"
   ]
  },
  {
   "cell_type": "markdown",
   "metadata": {},
   "source": [
    "Normalizing the data:"
   ]
  },
  {
   "cell_type": "code",
   "execution_count": 47,
   "metadata": {},
   "outputs": [
    {
     "data": {
      "text/plain": [
       "False    995580\n",
       "True     609727\n",
       "Name: Search, dtype: int64"
      ]
     },
     "execution_count": 47,
     "metadata": {},
     "output_type": "execute_result"
    }
   ],
   "source": [
    "data.Search.isna().value_counts()"
   ]
  },
  {
   "cell_type": "markdown",
   "metadata": {},
   "source": [
    "**We are missing 609,727 records if the individual was pulled over or not**"
   ]
  },
  {
   "cell_type": "code",
   "execution_count": 51,
   "metadata": {},
   "outputs": [
    {
     "data": {
      "text/plain": [
       "Race             Search\n",
       "ASIAN            No        0.965905\n",
       "                 Yes       0.034095\n",
       "BLACK            No        0.914886\n",
       "                 Yes       0.085114\n",
       "HISPANIC         No        0.913222\n",
       "                 Yes       0.086778\n",
       "NATIVE AMERICAN  No        0.956427\n",
       "                 Yes       0.043573\n",
       "OTHER            No        0.963355\n",
       "                 Yes       0.036645\n",
       "WHITE            No        0.943589\n",
       "                 Yes       0.056411\n",
       "Name: Search, dtype: float64"
      ]
     },
     "execution_count": 51,
     "metadata": {},
     "output_type": "execute_result"
    }
   ],
   "source": [
    "data.groupby('Race').Search.value_counts(normalize = True)"
   ]
  },
  {
   "cell_type": "code",
   "execution_count": 52,
   "metadata": {},
   "outputs": [
    {
     "data": {
      "text/plain": [
       "<matplotlib.axes._subplots.AxesSubplot at 0x1f900c31828>"
      ]
     },
     "execution_count": 52,
     "metadata": {},
     "output_type": "execute_result"
    },
    {
     "data": {
      "image/png": "[encoded data removed]",
      "text/plain": [
       "<Figure size 1152x576 with 1 Axes>"
      ]
     },
     "metadata": {
      "needs_background": "light"
     },
     "output_type": "display_data"
    }
   ],
   "source": [
    "plt.figure(figsize = (16, 8))\n",
    "data.groupby('Race').Search.value_counts().plot.bar()"
   ]
  },
  {
   "cell_type": "markdown",
   "metadata": {},
   "source": [
    "# Time Series"
   ]
  },
  {
   "cell_type": "code",
   "execution_count": 2,
   "metadata": {},
   "outputs": [],
   "source": [
    "import pandas as pd"
   ]
  },
  {
   "cell_type": "code",
   "execution_count": 3,
   "metadata": {},
   "outputs": [
    {
     "ename": "NameError",
     "evalue": "name 'data' is not defined",
     "output_type": "error",
     "traceback": [
      "\u001b[1;31m---------------------------------------------------------------------------\u001b[0m",
      "\u001b[1;31mNameError\u001b[0m                                 Traceback (most recent call last)",
      "\u001b[1;32m<ipython-input-3-ef7ab332b4e5>\u001b[0m in \u001b[0;36m<module>\u001b[1;34m\u001b[0m\n\u001b[0;32m      1\u001b[0m \u001b[1;31m# create a new 'time_stamp' column from 'Crash Date/Time' using the datetime library in Python\u001b[0m\u001b[1;33m\u001b[0m\u001b[1;33m\u001b[0m\u001b[1;33m\u001b[0m\u001b[0m\n\u001b[0;32m      2\u001b[0m \u001b[1;32mfrom\u001b[0m \u001b[0mdatetime\u001b[0m \u001b[1;32mimport\u001b[0m \u001b[0mdatetime\u001b[0m\u001b[1;33m\u001b[0m\u001b[1;33m\u001b[0m\u001b[0m\n\u001b[1;32m----> 3\u001b[1;33m \u001b[0mdata\u001b[0m\u001b[1;33m[\u001b[0m\u001b[1;34m'Date of Stop'\u001b[0m\u001b[1;33m]\u001b[0m \u001b[1;33m=\u001b[0m \u001b[0mpd\u001b[0m\u001b[1;33m.\u001b[0m\u001b[0mto_datetime\u001b[0m\u001b[1;33m(\u001b[0m\u001b[0mdata\u001b[0m\u001b[1;33m[\u001b[0m\u001b[1;34m'Date'\u001b[0m\u001b[1;33m]\u001b[0m\u001b[1;33m)\u001b[0m\u001b[1;33m\u001b[0m\u001b[1;33m\u001b[0m\u001b[0m\n\u001b[0m",
      "\u001b[1;31mNameError\u001b[0m: name 'data' is not defined"
     ]
    }
   ],
   "source": [
    "# create a new 'time_stamp' column from 'Crash Date/Time' using the datetime library in Python\n",
    "from datetime import datetime\n",
    "data['Date of Stop'] = pd.to_datetime(data['Date'])"
   ]
  },
  {
   "cell_type": "code",
   "execution_count": null,
   "metadata": {},
   "outputs": [],
   "source": []
  }
 ],
 "metadata": {
  "kernelspec": {
   "display_name": "Python 3",
   "language": "python",
   "name": "python3"
  },
  "language_info": {
   "codemirror_mode": {
    "name": "ipython",
    "version": 3
   },
   "file_extension": ".py",
   "mimetype": "text/x-python",
   "name": "python",
   "nbconvert_exporter": "python",
   "pygments_lexer": "ipython3",
   "version": "3.7.3"
  }
 },
 "nbformat": 4,
 "nbformat_minor": 4
}
