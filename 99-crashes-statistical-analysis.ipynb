{
 "cells": [
  {
   "cell_type": "code",
   "execution_count": 18,
   "metadata": {},
   "outputs": [],
   "source": [
    "import pandas as pd\n",
    "import matplotlib.pyplot as plt\n",
    "import seaborn as sns"
   ]
  },
  {
   "cell_type": "code",
   "execution_count": 3,
   "metadata": {},
   "outputs": [],
   "source": [
    "data = pd.read_csv('data/00-crash_reporting_incidents.csv', low_memory = False)"
   ]
  },
  {
   "cell_type": "code",
   "execution_count": 4,
   "metadata": {},
   "outputs": [
    {
     "data": {
      "text/html": [
       "<div>\n",
       "<style scoped>\n",
       "    .dataframe tbody tr th:only-of-type {\n",
       "        vertical-align: middle;\n",
       "    }\n",
       "\n",
       "    .dataframe tbody tr th {\n",
       "        vertical-align: top;\n",
       "    }\n",
       "\n",
       "    .dataframe thead th {\n",
       "        text-align: right;\n",
       "    }\n",
       "</style>\n",
       "<table border=\"1\" class=\"dataframe\">\n",
       "  <thead>\n",
       "    <tr style=\"text-align: right;\">\n",
       "      <th></th>\n",
       "      <th>Report Number</th>\n",
       "      <th>Local Case Number</th>\n",
       "      <th>Agency Name</th>\n",
       "      <th>ACRS Report Type</th>\n",
       "      <th>Crash Date/Time</th>\n",
       "      <th>Hit/Run</th>\n",
       "      <th>Route Type</th>\n",
       "      <th>Mile Point</th>\n",
       "      <th>Mile Point Direction</th>\n",
       "      <th>Lane Direction</th>\n",
       "      <th>...</th>\n",
       "      <th>Fixed Oject Struck</th>\n",
       "      <th>Junction</th>\n",
       "      <th>Intersection Type</th>\n",
       "      <th>Intersection Area</th>\n",
       "      <th>Road Alignment</th>\n",
       "      <th>Road Condition</th>\n",
       "      <th>Road Division</th>\n",
       "      <th>Latitude</th>\n",
       "      <th>Longitude</th>\n",
       "      <th>Location</th>\n",
       "    </tr>\n",
       "  </thead>\n",
       "  <tbody>\n",
       "    <tr>\n",
       "      <th>0</th>\n",
       "      <td>MCP3119001T</td>\n",
       "      <td>190047416</td>\n",
       "      <td>Montgomery County Police</td>\n",
       "      <td>Property Damage Crash</td>\n",
       "      <td>10/03/2019 11:30:00 AM</td>\n",
       "      <td>No</td>\n",
       "      <td>County</td>\n",
       "      <td>0.94</td>\n",
       "      <td>North</td>\n",
       "      <td>North</td>\n",
       "      <td>...</td>\n",
       "      <td>NaN</td>\n",
       "      <td>NaN</td>\n",
       "      <td>NaN</td>\n",
       "      <td>NaN</td>\n",
       "      <td>STRAIGHT</td>\n",
       "      <td>NO DEFECTS</td>\n",
       "      <td>TWO-WAY, DIVIDED, POSITIVE MEDIAN BARRIER</td>\n",
       "      <td>39.172548</td>\n",
       "      <td>-77.203174</td>\n",
       "      <td>(39.17254783, -77.203174)</td>\n",
       "    </tr>\n",
       "    <tr>\n",
       "      <th>1</th>\n",
       "      <td>MCP9428002D</td>\n",
       "      <td>190047394</td>\n",
       "      <td>Montgomery County Police</td>\n",
       "      <td>Property Damage Crash</td>\n",
       "      <td>10/03/2019 09:50:00 AM</td>\n",
       "      <td>No</td>\n",
       "      <td>County</td>\n",
       "      <td>1.92</td>\n",
       "      <td>North</td>\n",
       "      <td>South</td>\n",
       "      <td>...</td>\n",
       "      <td>NaN</td>\n",
       "      <td>NaN</td>\n",
       "      <td>NaN</td>\n",
       "      <td>NaN</td>\n",
       "      <td>STRAIGHT</td>\n",
       "      <td>NO DEFECTS</td>\n",
       "      <td>TWO-WAY, DIVIDED, UNPROTECTED PAINTED MIN 4 FEET</td>\n",
       "      <td>39.253445</td>\n",
       "      <td>-77.275482</td>\n",
       "      <td>(39.253445, -77.27548167)</td>\n",
       "    </tr>\n",
       "    <tr>\n",
       "      <th>2</th>\n",
       "      <td>MCP27260043</td>\n",
       "      <td>190047395</td>\n",
       "      <td>Montgomery County Police</td>\n",
       "      <td>Property Damage Crash</td>\n",
       "      <td>10/03/2019 09:28:00 AM</td>\n",
       "      <td>Yes</td>\n",
       "      <td>County</td>\n",
       "      <td>0.78</td>\n",
       "      <td>East</td>\n",
       "      <td>West</td>\n",
       "      <td>...</td>\n",
       "      <td>NaN</td>\n",
       "      <td>NaN</td>\n",
       "      <td>NaN</td>\n",
       "      <td>NaN</td>\n",
       "      <td>STRAIGHT</td>\n",
       "      <td>NO DEFECTS</td>\n",
       "      <td>TWO-WAY, NOT DIVIDED</td>\n",
       "      <td>39.053780</td>\n",
       "      <td>-77.099195</td>\n",
       "      <td>(39.05378023, -77.0991953)</td>\n",
       "    </tr>\n",
       "    <tr>\n",
       "      <th>3</th>\n",
       "      <td>MCP91300088</td>\n",
       "      <td>190047384</td>\n",
       "      <td>Montgomery County Police</td>\n",
       "      <td>Property Damage Crash</td>\n",
       "      <td>10/03/2019 09:03:00 AM</td>\n",
       "      <td>Yes</td>\n",
       "      <td>US (State)</td>\n",
       "      <td>2.72</td>\n",
       "      <td>North</td>\n",
       "      <td>South</td>\n",
       "      <td>...</td>\n",
       "      <td>CURB</td>\n",
       "      <td>NON INTERSECTION</td>\n",
       "      <td>NaN</td>\n",
       "      <td>NaN</td>\n",
       "      <td>STRAIGHT</td>\n",
       "      <td>NO DEFECTS</td>\n",
       "      <td>TWO-WAY, DIVIDED, POSITIVE MEDIAN BARRIER</td>\n",
       "      <td>39.019415</td>\n",
       "      <td>-77.013685</td>\n",
       "      <td>(39.019415, -77.013685)</td>\n",
       "    </tr>\n",
       "    <tr>\n",
       "      <th>4</th>\n",
       "      <td>MCP1119007N</td>\n",
       "      <td>190047378</td>\n",
       "      <td>Montgomery County Police</td>\n",
       "      <td>Property Damage Crash</td>\n",
       "      <td>10/03/2019 08:06:00 AM</td>\n",
       "      <td>No</td>\n",
       "      <td>Maryland (State)</td>\n",
       "      <td>4.81</td>\n",
       "      <td>North</td>\n",
       "      <td>South</td>\n",
       "      <td>...</td>\n",
       "      <td>NaN</td>\n",
       "      <td>INTERSECTION RELATED</td>\n",
       "      <td>FOUR-WAY INTERSECTION</td>\n",
       "      <td>NaN</td>\n",
       "      <td>STRAIGHT</td>\n",
       "      <td>NO DEFECTS</td>\n",
       "      <td>TWO-WAY, DIVIDED, UNPROTECTED PAINTED MIN 4 FEET</td>\n",
       "      <td>39.059683</td>\n",
       "      <td>-77.051695</td>\n",
       "      <td>(39.05968333, -77.051695)</td>\n",
       "    </tr>\n",
       "  </tbody>\n",
       "</table>\n",
       "<p>5 rows × 44 columns</p>\n",
       "</div>"
      ],
      "text/plain": [
       "  Report Number Local Case Number               Agency Name  \\\n",
       "0   MCP3119001T         190047416  Montgomery County Police   \n",
       "1   MCP9428002D         190047394  Montgomery County Police   \n",
       "2   MCP27260043         190047395  Montgomery County Police   \n",
       "3   MCP91300088         190047384  Montgomery County Police   \n",
       "4   MCP1119007N         190047378  Montgomery County Police   \n",
       "\n",
       "        ACRS Report Type         Crash Date/Time Hit/Run        Route Type  \\\n",
       "0  Property Damage Crash  10/03/2019 11:30:00 AM      No            County   \n",
       "1  Property Damage Crash  10/03/2019 09:50:00 AM      No            County   \n",
       "2  Property Damage Crash  10/03/2019 09:28:00 AM     Yes            County   \n",
       "3  Property Damage Crash  10/03/2019 09:03:00 AM     Yes        US (State)   \n",
       "4  Property Damage Crash  10/03/2019 08:06:00 AM      No  Maryland (State)   \n",
       "\n",
       "   Mile Point Mile Point Direction Lane Direction  ...  Fixed Oject Struck  \\\n",
       "0        0.94                North          North  ...                 NaN   \n",
       "1        1.92                North          South  ...                 NaN   \n",
       "2        0.78                 East           West  ...                 NaN   \n",
       "3        2.72                North          South  ...                CURB   \n",
       "4        4.81                North          South  ...                 NaN   \n",
       "\n",
       "               Junction      Intersection Type Intersection Area  \\\n",
       "0                   NaN                    NaN               NaN   \n",
       "1                   NaN                    NaN               NaN   \n",
       "2                   NaN                    NaN               NaN   \n",
       "3      NON INTERSECTION                    NaN               NaN   \n",
       "4  INTERSECTION RELATED  FOUR-WAY INTERSECTION               NaN   \n",
       "\n",
       "   Road Alignment Road Condition  \\\n",
       "0        STRAIGHT     NO DEFECTS   \n",
       "1        STRAIGHT     NO DEFECTS   \n",
       "2        STRAIGHT     NO DEFECTS   \n",
       "3        STRAIGHT     NO DEFECTS   \n",
       "4        STRAIGHT     NO DEFECTS   \n",
       "\n",
       "                                      Road Division   Latitude  Longitude  \\\n",
       "0         TWO-WAY, DIVIDED, POSITIVE MEDIAN BARRIER  39.172548 -77.203174   \n",
       "1  TWO-WAY, DIVIDED, UNPROTECTED PAINTED MIN 4 FEET  39.253445 -77.275482   \n",
       "2                              TWO-WAY, NOT DIVIDED  39.053780 -77.099195   \n",
       "3         TWO-WAY, DIVIDED, POSITIVE MEDIAN BARRIER  39.019415 -77.013685   \n",
       "4  TWO-WAY, DIVIDED, UNPROTECTED PAINTED MIN 4 FEET  39.059683 -77.051695   \n",
       "\n",
       "                     Location  \n",
       "0   (39.17254783, -77.203174)  \n",
       "1   (39.253445, -77.27548167)  \n",
       "2  (39.05378023, -77.0991953)  \n",
       "3     (39.019415, -77.013685)  \n",
       "4   (39.05968333, -77.051695)  \n",
       "\n",
       "[5 rows x 44 columns]"
      ]
     },
     "execution_count": 4,
     "metadata": {},
     "output_type": "execute_result"
    }
   ],
   "source": [
    "data.head()"
   ]
  },
  {
   "cell_type": "code",
   "execution_count": 7,
   "metadata": {},
   "outputs": [
    {
     "data": {
      "text/plain": [
       "Index(['Report Number', 'Local Case Number', 'Agency Name', 'ACRS Report Type',\n",
       "       'Crash Date/Time', 'Hit/Run', 'Route Type', 'Mile Point',\n",
       "       'Mile Point Direction', 'Lane Direction', 'Lane Number', 'Lane Type',\n",
       "       'Number of Lanes', 'Direction', 'Distance', 'Distance Unit',\n",
       "       'Road Grade', 'NonTraffic', 'Road Name', 'Cross-Street Type',\n",
       "       'Cross-Street Name', 'Off-Road Description', 'Municipality',\n",
       "       'Related Non-Motorist', 'At Fault', 'Collision Type', 'Weather',\n",
       "       'Surface Condition', 'Light', 'Traffic Control',\n",
       "       'Driver Substance Abuse', 'Non-Motorist Substance Abuse',\n",
       "       'First Harmful Event', 'Second Harmful Event', 'Fixed Oject Struck',\n",
       "       'Junction', 'Intersection Type', 'Intersection Area', 'Road Alignment',\n",
       "       'Road Condition', 'Road Division', 'Latitude', 'Longitude', 'Location'],\n",
       "      dtype='object')"
      ]
     },
     "execution_count": 7,
     "metadata": {},
     "output_type": "execute_result"
    }
   ],
   "source": [
    "data.columns"
   ]
  },
  {
   "cell_type": "code",
   "execution_count": 22,
   "metadata": {},
   "outputs": [
    {
     "data": {
      "text/plain": [
       "OTHER VEHICLE                     32871\n",
       "FIXED OBJECT                       5687\n",
       "PARKED VEHICLE                     4546\n",
       "PEDESTRIAN                         1844\n",
       "OFF ROAD                            537\n",
       "ANIMAL                              445\n",
       "BICYCLE                             413\n",
       "OTHER OBJECT                        342\n",
       "OTHER                               152\n",
       "OVERTURN                            125\n",
       "UNKNOWN                              84\n",
       "BACKING                              70\n",
       "OTHER NON COLLISION                  62\n",
       "OTHER CONVEYANCE                     39\n",
       "THROWN OR FALLING OBJECT             22\n",
       "FELL JUMPED FROM MOTOR VEHICLE       21\n",
       "OTHER PEDALCYCLE                     19\n",
       "DOWNHILL RUNAWAY                     13\n",
       "SPILLED CARGO                        12\n",
       "U-TURN                                6\n",
       "RAILWAY TRAIN                         5\n",
       "JACKKNIFE                             4\n",
       "UNITS SEPARATED                       4\n",
       "EXPLOSION OR FIRE                     4\n",
       "IMMERSION                             1\n",
       "Name: First Harmful Event, dtype: int64"
      ]
     },
     "execution_count": 22,
     "metadata": {},
     "output_type": "execute_result"
    }
   ],
   "source": [
    "data['First Harmful Event'].value_counts()"
   ]
  },
  {
   "cell_type": "code",
   "execution_count": 13,
   "metadata": {},
   "outputs": [
    {
     "data": {
      "text/plain": [
       "CLEAR                       31016\n",
       "RAINING                      6041\n",
       "CLOUDY                       4996\n",
       "SNOW                          493\n",
       "UNKNOWN                       305\n",
       "FOGGY                         207\n",
       "WINTRY MIX                    125\n",
       "OTHER                         118\n",
       "SLEET                          58\n",
       "SEVERE WINDS                   50\n",
       "BLOWING SNOW                   26\n",
       "BLOWING SAND, SOIL, DIRT        4\n",
       "Name: Weather, dtype: int64"
      ]
     },
     "execution_count": 13,
     "metadata": {},
     "output_type": "execute_result"
    }
   ],
   "source": [
    "data['Weather'].value_counts()"
   ]
  },
  {
   "cell_type": "code",
   "execution_count": 14,
   "metadata": {},
   "outputs": [
    {
     "data": {
      "text/html": [
       "<div>\n",
       "<style scoped>\n",
       "    .dataframe tbody tr th:only-of-type {\n",
       "        vertical-align: middle;\n",
       "    }\n",
       "\n",
       "    .dataframe tbody tr th {\n",
       "        vertical-align: top;\n",
       "    }\n",
       "\n",
       "    .dataframe thead th {\n",
       "        text-align: right;\n",
       "    }\n",
       "</style>\n",
       "<table border=\"1\" class=\"dataframe\">\n",
       "  <thead>\n",
       "    <tr style=\"text-align: right;\">\n",
       "      <th>Weather</th>\n",
       "      <th>BLOWING SAND, SOIL, DIRT</th>\n",
       "      <th>BLOWING SNOW</th>\n",
       "      <th>CLEAR</th>\n",
       "      <th>CLOUDY</th>\n",
       "      <th>FOGGY</th>\n",
       "      <th>OTHER</th>\n",
       "      <th>RAINING</th>\n",
       "      <th>SEVERE WINDS</th>\n",
       "      <th>SLEET</th>\n",
       "      <th>SNOW</th>\n",
       "      <th>UNKNOWN</th>\n",
       "      <th>WINTRY MIX</th>\n",
       "      <th>All</th>\n",
       "    </tr>\n",
       "    <tr>\n",
       "      <th>ACRS Report Type</th>\n",
       "      <th></th>\n",
       "      <th></th>\n",
       "      <th></th>\n",
       "      <th></th>\n",
       "      <th></th>\n",
       "      <th></th>\n",
       "      <th></th>\n",
       "      <th></th>\n",
       "      <th></th>\n",
       "      <th></th>\n",
       "      <th></th>\n",
       "      <th></th>\n",
       "      <th></th>\n",
       "    </tr>\n",
       "  </thead>\n",
       "  <tbody>\n",
       "    <tr>\n",
       "      <th>Fatal Crash</th>\n",
       "      <td>0</td>\n",
       "      <td>0</td>\n",
       "      <td>91</td>\n",
       "      <td>8</td>\n",
       "      <td>0</td>\n",
       "      <td>0</td>\n",
       "      <td>10</td>\n",
       "      <td>0</td>\n",
       "      <td>0</td>\n",
       "      <td>0</td>\n",
       "      <td>0</td>\n",
       "      <td>0</td>\n",
       "      <td>109</td>\n",
       "    </tr>\n",
       "    <tr>\n",
       "      <th>Injury Crash</th>\n",
       "      <td>2</td>\n",
       "      <td>8</td>\n",
       "      <td>11124</td>\n",
       "      <td>1863</td>\n",
       "      <td>72</td>\n",
       "      <td>37</td>\n",
       "      <td>2293</td>\n",
       "      <td>19</td>\n",
       "      <td>22</td>\n",
       "      <td>154</td>\n",
       "      <td>28</td>\n",
       "      <td>38</td>\n",
       "      <td>15660</td>\n",
       "    </tr>\n",
       "    <tr>\n",
       "      <th>Property Damage Crash</th>\n",
       "      <td>2</td>\n",
       "      <td>18</td>\n",
       "      <td>19801</td>\n",
       "      <td>3125</td>\n",
       "      <td>135</td>\n",
       "      <td>81</td>\n",
       "      <td>3738</td>\n",
       "      <td>31</td>\n",
       "      <td>36</td>\n",
       "      <td>339</td>\n",
       "      <td>277</td>\n",
       "      <td>87</td>\n",
       "      <td>27670</td>\n",
       "    </tr>\n",
       "    <tr>\n",
       "      <th>All</th>\n",
       "      <td>4</td>\n",
       "      <td>26</td>\n",
       "      <td>31016</td>\n",
       "      <td>4996</td>\n",
       "      <td>207</td>\n",
       "      <td>118</td>\n",
       "      <td>6041</td>\n",
       "      <td>50</td>\n",
       "      <td>58</td>\n",
       "      <td>493</td>\n",
       "      <td>305</td>\n",
       "      <td>125</td>\n",
       "      <td>43439</td>\n",
       "    </tr>\n",
       "  </tbody>\n",
       "</table>\n",
       "</div>"
      ],
      "text/plain": [
       "Weather                BLOWING SAND, SOIL, DIRT  BLOWING SNOW  CLEAR  CLOUDY  \\\n",
       "ACRS Report Type                                                               \n",
       "Fatal Crash                                   0             0     91       8   \n",
       "Injury Crash                                  2             8  11124    1863   \n",
       "Property Damage Crash                         2            18  19801    3125   \n",
       "All                                           4            26  31016    4996   \n",
       "\n",
       "Weather                FOGGY  OTHER  RAINING  SEVERE WINDS  SLEET  SNOW  \\\n",
       "ACRS Report Type                                                          \n",
       "Fatal Crash                0      0       10             0      0     0   \n",
       "Injury Crash              72     37     2293            19     22   154   \n",
       "Property Damage Crash    135     81     3738            31     36   339   \n",
       "All                      207    118     6041            50     58   493   \n",
       "\n",
       "Weather                UNKNOWN  WINTRY MIX    All  \n",
       "ACRS Report Type                                   \n",
       "Fatal Crash                  0           0    109  \n",
       "Injury Crash                28          38  15660  \n",
       "Property Damage Crash      277          87  27670  \n",
       "All                        305         125  43439  "
      ]
     },
     "execution_count": 14,
     "metadata": {},
     "output_type": "execute_result"
    }
   ],
   "source": [
    "contingency_table = pd.crosstab(\n",
    "    data['ACRS Report Type'],\n",
    "    data['Weather'],\n",
    "    margins = True\n",
    ")\n",
    "contingency_table"
   ]
  },
  {
   "cell_type": "code",
   "execution_count": 36,
   "metadata": {},
   "outputs": [
    {
     "data": {
      "text/plain": [
       "4153"
      ]
     },
     "execution_count": 36,
     "metadata": {},
     "output_type": "execute_result"
    }
   ],
   "source": [
    "data['Weather'].isna().sum()"
   ]
  },
  {
   "cell_type": "code",
   "execution_count": 52,
   "metadata": {},
   "outputs": [
    {
     "data": {
      "text/plain": [
       "<matplotlib.axes._subplots.AxesSubplot at 0x2a2e9be5c88>"
      ]
     },
     "execution_count": 52,
     "metadata": {},
     "output_type": "execute_result"
    },
    {
     "data": {
      "image/png": "[encoded data removed]",
      "text/plain": [
       "<Figure size 864x432 with 1 Axes>"
      ]
     },
     "metadata": {
      "needs_background": "light"
     },
     "output_type": "display_data"
    }
   ],
   "source": [
    "data['Weather'].value_counts().plot(kind = 'bar', figsize = (12, 6))"
   ]
  },
  {
   "cell_type": "code",
   "execution_count": 40,
   "metadata": {},
   "outputs": [],
   "source": [
    "# Import required modules\n",
    "import pandas as pd\n",
    "from sklearn import preprocessing\n",
    "\n",
    "# Set charts to view inline\n",
    "%matplotlib inline"
   ]
  },
  {
   "cell_type": "code",
   "execution_count": 48,
   "metadata": {},
   "outputs": [],
   "source": [
    "x = data['Weather'].value_counts()"
   ]
  },
  {
   "cell_type": "code",
   "execution_count": 55,
   "metadata": {},
   "outputs": [],
   "source": [
    "data = {'Weather' : [31016, 6041, 4998, 493, 305, 207, 125, 118, 58, 50, 26, 4]}\n",
    "df = pd.DataFrame(data)"
   ]
  },
  {
   "cell_type": "code",
   "execution_count": 56,
   "metadata": {},
   "outputs": [
    {
     "data": {
      "text/html": [
       "<div>\n",
       "<style scoped>\n",
       "    .dataframe tbody tr th:only-of-type {\n",
       "        vertical-align: middle;\n",
       "    }\n",
       "\n",
       "    .dataframe tbody tr th {\n",
       "        vertical-align: top;\n",
       "    }\n",
       "\n",
       "    .dataframe thead th {\n",
       "        text-align: right;\n",
       "    }\n",
       "</style>\n",
       "<table border=\"1\" class=\"dataframe\">\n",
       "  <thead>\n",
       "    <tr style=\"text-align: right;\">\n",
       "      <th></th>\n",
       "      <th>Weather</th>\n",
       "    </tr>\n",
       "  </thead>\n",
       "  <tbody>\n",
       "    <tr>\n",
       "      <th>0</th>\n",
       "      <td>31016</td>\n",
       "    </tr>\n",
       "    <tr>\n",
       "      <th>1</th>\n",
       "      <td>6041</td>\n",
       "    </tr>\n",
       "    <tr>\n",
       "      <th>2</th>\n",
       "      <td>4998</td>\n",
       "    </tr>\n",
       "    <tr>\n",
       "      <th>3</th>\n",
       "      <td>493</td>\n",
       "    </tr>\n",
       "    <tr>\n",
       "      <th>4</th>\n",
       "      <td>305</td>\n",
       "    </tr>\n",
       "    <tr>\n",
       "      <th>5</th>\n",
       "      <td>207</td>\n",
       "    </tr>\n",
       "    <tr>\n",
       "      <th>6</th>\n",
       "      <td>125</td>\n",
       "    </tr>\n",
       "    <tr>\n",
       "      <th>7</th>\n",
       "      <td>118</td>\n",
       "    </tr>\n",
       "    <tr>\n",
       "      <th>8</th>\n",
       "      <td>58</td>\n",
       "    </tr>\n",
       "    <tr>\n",
       "      <th>9</th>\n",
       "      <td>50</td>\n",
       "    </tr>\n",
       "    <tr>\n",
       "      <th>10</th>\n",
       "      <td>26</td>\n",
       "    </tr>\n",
       "    <tr>\n",
       "      <th>11</th>\n",
       "      <td>4</td>\n",
       "    </tr>\n",
       "  </tbody>\n",
       "</table>\n",
       "</div>"
      ],
      "text/plain": [
       "    Weather\n",
       "0     31016\n",
       "1      6041\n",
       "2      4998\n",
       "3       493\n",
       "4       305\n",
       "5       207\n",
       "6       125\n",
       "7       118\n",
       "8        58\n",
       "9        50\n",
       "10       26\n",
       "11        4"
      ]
     },
     "execution_count": 56,
     "metadata": {},
     "output_type": "execute_result"
    }
   ],
   "source": [
    "df"
   ]
  },
  {
   "cell_type": "code",
   "execution_count": 58,
   "metadata": {},
   "outputs": [],
   "source": [
    "# Create x, where x the 'scores' column's values as floats\n",
    "x = df[['Weather']].values.astype(float)\n",
    "\n",
    "# Create a minimum and maximum processor object\n",
    "min_max_scaler = preprocessing.MinMaxScaler()\n",
    "\n",
    "# Create an object to transform the data to fit minmax processor\n",
    "x_scaled = min_max_scaler.fit_transform(x)\n",
    "\n",
    "# Run the normalizer on the dataframe\n",
    "df_normalized = pd.DataFrame(x_scaled)"
   ]
  },
  {
   "cell_type": "code",
   "execution_count": 59,
   "metadata": {},
   "outputs": [
    {
     "data": {
      "text/html": [
       "<div>\n",
       "<style scoped>\n",
       "    .dataframe tbody tr th:only-of-type {\n",
       "        vertical-align: middle;\n",
       "    }\n",
       "\n",
       "    .dataframe tbody tr th {\n",
       "        vertical-align: top;\n",
       "    }\n",
       "\n",
       "    .dataframe thead th {\n",
       "        text-align: right;\n",
       "    }\n",
       "</style>\n",
       "<table border=\"1\" class=\"dataframe\">\n",
       "  <thead>\n",
       "    <tr style=\"text-align: right;\">\n",
       "      <th></th>\n",
       "      <th>0</th>\n",
       "    </tr>\n",
       "  </thead>\n",
       "  <tbody>\n",
       "    <tr>\n",
       "      <th>0</th>\n",
       "      <td>1.000000</td>\n",
       "    </tr>\n",
       "    <tr>\n",
       "      <th>1</th>\n",
       "      <td>0.194667</td>\n",
       "    </tr>\n",
       "    <tr>\n",
       "      <th>2</th>\n",
       "      <td>0.161034</td>\n",
       "    </tr>\n",
       "    <tr>\n",
       "      <th>3</th>\n",
       "      <td>0.015768</td>\n",
       "    </tr>\n",
       "    <tr>\n",
       "      <th>4</th>\n",
       "      <td>0.009706</td>\n",
       "    </tr>\n",
       "    <tr>\n",
       "      <th>5</th>\n",
       "      <td>0.006546</td>\n",
       "    </tr>\n",
       "    <tr>\n",
       "      <th>6</th>\n",
       "      <td>0.003902</td>\n",
       "    </tr>\n",
       "    <tr>\n",
       "      <th>7</th>\n",
       "      <td>0.003676</td>\n",
       "    </tr>\n",
       "    <tr>\n",
       "      <th>8</th>\n",
       "      <td>0.001741</td>\n",
       "    </tr>\n",
       "    <tr>\n",
       "      <th>9</th>\n",
       "      <td>0.001483</td>\n",
       "    </tr>\n",
       "    <tr>\n",
       "      <th>10</th>\n",
       "      <td>0.000709</td>\n",
       "    </tr>\n",
       "    <tr>\n",
       "      <th>11</th>\n",
       "      <td>0.000000</td>\n",
       "    </tr>\n",
       "  </tbody>\n",
       "</table>\n",
       "</div>"
      ],
      "text/plain": [
       "           0\n",
       "0   1.000000\n",
       "1   0.194667\n",
       "2   0.161034\n",
       "3   0.015768\n",
       "4   0.009706\n",
       "5   0.006546\n",
       "6   0.003902\n",
       "7   0.003676\n",
       "8   0.001741\n",
       "9   0.001483\n",
       "10  0.000709\n",
       "11  0.000000"
      ]
     },
     "execution_count": 59,
     "metadata": {},
     "output_type": "execute_result"
    }
   ],
   "source": [
    "df_normalized"
   ]
  },
  {
   "cell_type": "code",
   "execution_count": 60,
   "metadata": {},
   "outputs": [
    {
     "data": {
      "text/plain": [
       "<matplotlib.axes._subplots.AxesSubplot at 0x2a2eb2e2ac8>"
      ]
     },
     "execution_count": 60,
     "metadata": {},
     "output_type": "execute_result"
    },
    {
     "data": {
      "image/png": "[encoded data removed]",
      "text/plain": [
       "<Figure size 432x288 with 1 Axes>"
      ]
     },
     "metadata": {
      "needs_background": "light"
     },
     "output_type": "display_data"
    }
   ],
   "source": [
    "df_normalized.plot(kind = 'bar')"
   ]
  },
  {
   "cell_type": "code",
   "execution_count": null,
   "metadata": {},
   "outputs": [],
   "source": []
  }
 ],
 "metadata": {
  "kernelspec": {
   "display_name": "Python 3",
   "language": "python",
   "name": "python3"
  },
  "language_info": {
   "codemirror_mode": {
    "name": "ipython",
    "version": 3
   },
   "file_extension": ".py",
   "mimetype": "text/x-python",
   "name": "python",
   "nbconvert_exporter": "python",
   "pygments_lexer": "ipython3",
   "version": "3.7.3"
  }
 },
 "nbformat": 4,
 "nbformat_minor": 4
}
