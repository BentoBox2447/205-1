{
 "cells": [
  {
   "cell_type": "code",
   "execution_count": 1,
   "metadata": {},
   "outputs": [],
   "source": [
    "import warnings\n",
    "import itertools\n",
    "import numpy as np\n",
    "import matplotlib.pyplot as plt\n",
    "warnings.filterwarnings(\"ignore\")\n",
    "plt.style.use('fivethirtyeight')\n",
    "import pandas as pd\n",
    "import statsmodels.api as sm\n",
    "import matplotlib\n",
    "matplotlib.rcParams['axes.labelsize'] = 14\n",
    "matplotlib.rcParams['xtick.labelsize'] = 12\n",
    "matplotlib.rcParams['ytick.labelsize'] = 12\n",
    "matplotlib.rcParams['text.color'] = 'k'"
   ]
  },
  {
   "cell_type": "code",
   "execution_count": 27,
   "metadata": {},
   "outputs": [],
   "source": [
    "from datetime import datetime"
   ]
  },
  {
   "cell_type": "code",
   "execution_count": 29,
   "metadata": {},
   "outputs": [
    {
     "name": "stdout",
     "output_type": "stream",
     "text": [
      "Wall time: 33.6 s\n"
     ]
    }
   ],
   "source": [
    "%%time\n",
    "data = pd.read_csv('Traffic_Violations (6).csv', low_memory = False)"
   ]
  },
  {
   "cell_type": "code",
   "execution_count": 30,
   "metadata": {},
   "outputs": [
    {
     "data": {
      "text/plain": [
       "(1618721, 43)"
      ]
     },
     "execution_count": 30,
     "metadata": {},
     "output_type": "execute_result"
    }
   ],
   "source": [
    "data.shape"
   ]
  },
  {
   "cell_type": "code",
   "execution_count": 31,
   "metadata": {},
   "outputs": [
    {
     "name": "stdout",
     "output_type": "stream",
     "text": [
      "Wall time: 4min 54s\n"
     ]
    }
   ],
   "source": [
    "%%time\n",
    "data['Date Of Stop'] = pd.to_datetime(data['Date Of Stop'])"
   ]
  },
  {
   "cell_type": "code",
   "execution_count": 23,
   "metadata": {},
   "outputs": [],
   "source": [
    "data['year'] = ''\n",
    "data['month'] = ''\n",
    "data['day'] = ''"
   ]
  },
  {
   "cell_type": "code",
   "execution_count": 24,
   "metadata": {},
   "outputs": [],
   "source": [
    "data['year'] = data['Date Of Stop'].dt.year\n",
    "data['month'] = data['Date Of Stop'].dt.month\n",
    "data['day'] = data['Date Of Stop'].dt.day"
   ]
  },
  {
   "cell_type": "code",
   "execution_count": 25,
   "metadata": {},
   "outputs": [
    {
     "data": {
      "text/plain": [
       "year  month\n",
       "2012  1        10253\n",
       "      2        10342\n",
       "      3        11624\n",
       "      4        13174\n",
       "      5        17397\n",
       "      6        13075\n",
       "      7        11694\n",
       "      8        12116\n",
       "      9        12069\n",
       "      10       13162\n",
       "      11       13593\n",
       "      12       12876\n",
       "2013  1        13098\n",
       "      2        12909\n",
       "      3        15861\n",
       "      4        14842\n",
       "      5        18417\n",
       "      6        13554\n",
       "      7        15748\n",
       "      8        16892\n",
       "      9        18170\n",
       "      10       17448\n",
       "      11       17027\n",
       "      12       16553\n",
       "2014  1        15461\n",
       "      2        15888\n",
       "      3        19572\n",
       "      4        21405\n",
       "      5        22601\n",
       "      6        17588\n",
       "               ...  \n",
       "2017  7        16163\n",
       "      8        16755\n",
       "      9        16963\n",
       "      10       16460\n",
       "      11       15812\n",
       "      12       15371\n",
       "2018  1        17595\n",
       "      2        18186\n",
       "      3        20001\n",
       "      4        22491\n",
       "      5        18115\n",
       "      6        16633\n",
       "      7        18180\n",
       "      8        18004\n",
       "      9        16868\n",
       "      10       18275\n",
       "      11       16833\n",
       "      12       17106\n",
       "2019  1        16479\n",
       "      2        17109\n",
       "      3        20597\n",
       "      4        18806\n",
       "      5        16680\n",
       "      6        14501\n",
       "      7        15535\n",
       "      8        15027\n",
       "      9        15475\n",
       "      10       12675\n",
       "      11       13588\n",
       "      12        3986\n",
       "Name: month, Length: 96, dtype: int64"
      ]
     },
     "execution_count": 25,
     "metadata": {},
     "output_type": "execute_result"
    }
   ],
   "source": [
    "data.groupby('year')['month'].value_counts(sort = False)"
   ]
  },
  {
   "cell_type": "code",
   "execution_count": null,
   "metadata": {},
   "outputs": [],
   "source": []
  }
 ],
 "metadata": {
  "kernelspec": {
   "display_name": "Python 3",
   "language": "python",
   "name": "python3"
  },
  "language_info": {
   "codemirror_mode": {
    "name": "ipython",
    "version": 3
   },
   "file_extension": ".py",
   "mimetype": "text/x-python",
   "name": "python",
   "nbconvert_exporter": "python",
   "pygments_lexer": "ipython3",
   "version": "3.7.3"
  }
 },
 "nbformat": 4,
 "nbformat_minor": 4
}
